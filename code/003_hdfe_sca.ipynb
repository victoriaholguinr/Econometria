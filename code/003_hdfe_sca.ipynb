{
 "cells": [
  {
   "cell_type": "markdown",
   "metadata": {},
   "source": [
    "# Motivation"
   ]
  },
  {
   "cell_type": "code",
   "execution_count": 1,
   "metadata": {},
   "outputs": [],
   "source": [
    "%%capture\n",
    "import stata_setup, os\n",
    "if os.name == 'nt':\n",
    "    stata_setup.config('C:/Program Files/Stata17/','mp')\n",
    "else:\n",
    "    stata_setup.config('/usr/local/stata17','mp')"
   ]
  },
  {
   "cell_type": "code",
   "execution_count": 2,
   "metadata": {},
   "outputs": [],
   "source": [
    "from sfi import Data\n",
    "from pystata import stata\n",
    "import numpy as np\n",
    "import pandas as pd"
   ]
  },
  {
   "cell_type": "code",
   "execution_count": 3,
   "metadata": {},
   "outputs": [
    {
     "name": "stdout",
     "output_type": "stream",
     "text": [
      "\n"
     ]
    }
   ],
   "source": [
    "%%stata -qui\n",
    "\n",
    "use \"../data/data\", clear\n",
    "rename log_flesch_kincaid_grade_level FKG\n",
    "quietly tabulate year, generate(y_)\n",
    "quietly tabulate cluster, generate(c_)\n",
    "\n",
    "local journals ecm jpe qje res  //AER based category\n",
    "\n",
    "local jel_imp a_imp b_imp c_imp  e_imp f_imp g_imp h_imp i_imp j_imp k_imp ///\n",
    "              l_imp m_imp n_imp o_imp p_imp q_imp r_imp y_imp z_imp // D JEL based case"
   ]
  },
  {
   "cell_type": "code",
   "execution_count": 4,
   "metadata": {},
   "outputs": [],
   "source": [
    "%%capture captured_output\n",
    "stata.run('''\n",
    "          display \"`journals'\"\n",
    "          ''')"
   ]
  },
  {
   "cell_type": "code",
   "execution_count": 5,
   "metadata": {},
   "outputs": [
    {
     "name": "stdout",
     "output_type": "stream",
     "text": [
      "      ecm  jpe  qje  res\n",
      "4707    0    0    0    1\n",
      "3807    0    0    1    0\n",
      "4579    0    0    0    1\n",
      "4551    0    0    0    1\n",
      "101     0    0    0    0\n",
      "4817    0    0    0    1\n",
      "4932    0    0    0    1\n",
      "700     0    0    0    0\n",
      "2711    0    1    0    0\n",
      "3349    0    0    1    0\n"
     ]
    }
   ],
   "source": [
    "output = captured_output.stdout\n",
    "lines = output.splitlines()\n",
    "journals_output = lines[-4].strip()\n",
    "journals = stata.pdataframe_from_data(var=journals_output)\n",
    "print(journals.sample(n=10, random_state=542))\n"
   ]
  },
  {
   "cell_type": "code",
   "execution_count": 6,
   "metadata": {},
   "outputs": [
    {
     "name": "stdout",
     "output_type": "stream",
     "text": [
      "      a_imp  b_imp  c_imp  e_imp  f_imp  g_imp  h_imp  i_imp  j_imp  k_imp  \\\n",
      "4707      0      0      0      0      0      0      0      0      1      0   \n",
      "3807      0      0      0      0      0      1      0      0      0      0   \n",
      "4579      0      0      0      0      0      0      0      0      1      1   \n",
      "4551      0      0      1      0      0      0      0      0      0      0   \n",
      "101       0      0      0      0      0      0      1      0      0      0   \n",
      "4817      0      0      1      1      0      0      0      0      0      0   \n",
      "4932      0      0      0      0      0      0      0      0      1      0   \n",
      "700       0      0      0      0      0      0      0      0      0      1   \n",
      "2711      0      0      0      0      0      0      0      1      1      0   \n",
      "3349      0      0      1      0      0      0      0      0      0      0   \n",
      "\n",
      "      l_imp  m_imp  n_imp  o_imp  p_imp  q_imp  r_imp  y_imp  z_imp  \n",
      "4707      0      0      0      0      0      0      0      0      0  \n",
      "3807      0      0      0      0      0      0      0      0      0  \n",
      "4579      0      0      0      0      0      0      0      0      0  \n",
      "4551      0      0      0      0      0      0      0      0      0  \n",
      "101       0      0      0      1      0      0      0      0      0  \n",
      "4817      0      0      0      0      0      0      0      0      0  \n",
      "4932      0      0      1      0      0      0      0      0      1  \n",
      "700       1      0      0      0      0      0      0      0      0  \n",
      "2711      0      0      0      1      0      0      0      0      1  \n",
      "3349      0      0      0      0      0      0      0      0      0  \n"
     ]
    }
   ],
   "source": [
    "jel_imp = stata.pdataframe_from_data(var=\"a_imp b_imp c_imp  e_imp f_imp g_imp h_imp i_imp j_imp k_imp l_imp m_imp n_imp o_imp p_imp q_imp r_imp y_imp z_imp\")\n",
    "print(jel_imp.sample(n=10, random_state=542))"
   ]
  },
  {
   "cell_type": "code",
   "execution_count": 7,
   "metadata": {},
   "outputs": [],
   "source": [
    "%%capture captured_output\n",
    "stata.run('ds y_2-y_20')"
   ]
  },
  {
   "cell_type": "code",
   "execution_count": 8,
   "metadata": {},
   "outputs": [
    {
     "name": "stdout",
     "output_type": "stream",
     "text": [
      "      y_2  y_4  y_6  y_8  y_10  y_12  y_14  y_16  y_18  y_20  y_3  y_5  y_7  \\\n",
      "4707    0    0    0    0     0     0     0     1     0     0    0    0    0   \n",
      "3807    0    0    0    0     0     0     0     0     0     0    0    0    0   \n",
      "4579    0    0    0    0     0     0     0     0     0     0    0    0    0   \n",
      "4551    0    0    0    0     0     0     0     0     0     0    0    0    0   \n",
      "101     0    0    0    0     0     0     0     0     0     0    1    0    0   \n",
      "4817    0    0    0    0     0     0     0     0     1     0    0    0    0   \n",
      "4932    0    0    0    0     0     0     0     0     0     1    0    0    0   \n",
      "700     0    0    0    0     0     1     0     0     0     0    0    0    0   \n",
      "2711    0    0    0    1     0     0     0     0     0     0    0    0    0   \n",
      "3349    0    1    0    0     0     0     0     0     0     0    0    0    0   \n",
      "\n",
      "      y_9  y_11  y_13  y_15  y_17  y_19  \n",
      "4707    0     0     0     0     0     0  \n",
      "3807    0     0     0     1     0     0  \n",
      "4579    0     0     1     0     0     0  \n",
      "4551    0     0     1     0     0     0  \n",
      "101     0     0     0     0     0     0  \n",
      "4817    0     0     0     0     0     0  \n",
      "4932    0     0     0     0     0     0  \n",
      "700     0     0     0     0     0     0  \n",
      "2711    0     0     0     0     0     0  \n",
      "3349    0     0     0     0     0     0  \n"
     ]
    }
   ],
   "source": [
    "output = captured_output.stdout\n",
    "year_output = output.strip()\n",
    "year = stata.pdataframe_from_data(var=year_output)\n",
    "print(year.sample(n=10, random_state=542))"
   ]
  },
  {
   "cell_type": "code",
   "execution_count": 9,
   "metadata": {},
   "outputs": [],
   "source": [
    "%%capture captured_output\n",
    "stata.run('ds c_2-c_215')"
   ]
  },
  {
   "cell_type": "code",
   "execution_count": 10,
   "metadata": {},
   "outputs": [
    {
     "name": "stdout",
     "output_type": "stream",
     "text": [
      "      c_2  c_22  c_42  c_62  c_82  c_102  c_122  c_142  c_162  c_182  ...  \\\n",
      "4707    1     0     0     0     0      0      0      0      0      0  ...   \n",
      "3807    1     0     0     0     0      0      0      0      0      0  ...   \n",
      "4579    1     0     0     0     0      0      0      0      0      0  ...   \n",
      "4551    0     0     0     0     0      0      0      0      0      0  ...   \n",
      "101     1     0     0     0     0      0      0      0      0      0  ...   \n",
      "4817    1     0     0     0     0      0      0      0      0      0  ...   \n",
      "4932    0     0     0     0     0      0      0      0      0      0  ...   \n",
      "700     1     0     0     0     0      0      0      0      0      0  ...   \n",
      "2711    1     0     0     0     0      0      0      0      0      0  ...   \n",
      "3349    1     0     0     0     0      0      0      0      0      0  ...   \n",
      "\n",
      "      c_21  c_41  c_61  c_81  c_101  c_121  c_141  c_161  c_181  c_201  \n",
      "4707     0     0     0     0      0      0      0      0      0      0  \n",
      "3807     0     0     0     0      0      0      0      0      0      0  \n",
      "4579     0     0     0     0      0      0      0      0      0      0  \n",
      "4551     0     0     0     1      0      0      0      0      0      0  \n",
      "101      0     0     0     0      0      0      0      0      0      0  \n",
      "4817     0     0     0     0      0      0      0      0      0      0  \n",
      "4932     0     0     0     0      0      0      0      0      0      0  \n",
      "700      0     0     0     0      0      0      0      0      0      0  \n",
      "2711     0     0     0     0      0      0      0      0      0      0  \n",
      "3349     0     0     0     0      0      0      0      0      0      0  \n",
      "\n",
      "[10 rows x 214 columns]\n"
     ]
    }
   ],
   "source": [
    "output = captured_output.stdout\n",
    "cluster_output = output.strip()\n",
    "cluster = stata.pdataframe_from_data(var=cluster_output)\n",
    "print(cluster.sample(n=10, random_state=542))"
   ]
  },
  {
   "cell_type": "code",
   "execution_count": 11,
   "metadata": {},
   "outputs": [
    {
     "name": "stdout",
     "output_type": "stream",
     "text": [
      "      jel_flag\n",
      "4707         1\n",
      "3807         1\n",
      "4579         1\n",
      "4551         0\n",
      "101          1\n",
      "4817         1\n",
      "4932         0\n",
      "700          1\n",
      "2711         0\n",
      "3349         0\n"
     ]
    }
   ],
   "source": [
    "jel_flag = stata.pdataframe_from_data(var=\"jel_flag\")\n",
    "print(jel_flag.sample(n=10, random_state=542))"
   ]
  },
  {
   "cell_type": "markdown",
   "metadata": {},
   "source": [
    "# High-Dimensional Fixed Effects"
   ]
  },
  {
   "cell_type": "code",
   "execution_count": 12,
   "metadata": {},
   "outputs": [
    {
     "name": "stdout",
     "output_type": "stream",
     "text": [
      "\n",
      ". egen journal1 = group(journal)\n",
      "\n",
      ". #delimit ;\n",
      "delimiter now ;\n",
      ". reghdfe FKG log_num_authors log_num_pages both_genders prop_women,\n",
      ">         absorb(journal1 a_imp b_imp c_imp  e_imp f_imp g_imp h_imp\n",
      ">                i_imp j_imp k_imp l_imp m_imp n_imp o_imp p_imp q_imp r_imp y_\n",
      "> imp z_imp\n",
      ">                year ib0.cluster jel_flag) vce(cluster cluster);\n",
      "(dropped 1 singleton observations)\n",
      "(MWFE estimator converged in 9 iterations)\n",
      "\n",
      "HDFE Linear regression                            Number of obs   =      4,987\n",
      "Absorbing 23 HDFE groups                          F(   4,    214) =       5.90\n",
      "Statistics robust to heteroskedasticity           Prob > F        =     0.0002\n",
      "                                                  R-squared       =     0.0921\n",
      "                                                  Adj R-squared   =     0.0421\n",
      "                                                  Within R-sq.    =     0.0019\n",
      "Number of clusters (cluster) =        215         Root MSE        =     0.1642\n",
      "\n",
      "                              (Std. err. adjusted for 215 clusters in cluster)\n",
      "------------------------------------------------------------------------------\n",
      "             |               Robust\n",
      "         FKG | Coefficient  std. err.      t    P>|t|     [95% conf. interval]\n",
      "-------------+----------------------------------------------------------------\n",
      "log_num_au~s |  -.0039738   .0029441    -1.35   0.179     -.009777    .0018294\n",
      "log_num_pa~s |    .019159   .0047953     4.00   0.000      .009707    .0286111\n",
      "both_genders |   .0005981   .0036427     0.16   0.870    -.0065821    .0077782\n",
      "  prop_women |  -.0188933   .0054037    -3.50   0.001    -.0295447   -.0082419\n",
      "       _cons |   2.666831   .0147896   180.32   0.000     2.637679    2.695982\n",
      "------------------------------------------------------------------------------\n",
      "\n",
      "Absorbed degrees of freedom:\n",
      "-----------------------------------------------------+\n",
      " Absorbed FE | Categories  - Redundant  = Num. Coefs |\n",
      "-------------+---------------------------------------|\n",
      "    journal1 |         5           1           4     |\n",
      "       a_imp |         2           1           1     |\n",
      "       b_imp |         2           1           1    ?|\n",
      "       c_imp |         2           1           1    ?|\n",
      "       e_imp |         2           1           1    ?|\n",
      "       f_imp |         2           1           1    ?|\n",
      "         1    ?|       2           1  \n",
      "       h_imp |         2           1           1    ?|\n",
      "       i_imp |         2           1           1    ?|\n",
      "       j_imp |         2           1           1    ?|\n",
      "       k_imp |         2           1           1    ?|\n",
      "       l_imp |         2           1           1    ?|\n",
      "       m_imp |         2           1           1    ?|\n",
      "       n_imp |         2           1           1    ?|\n",
      "       o_imp |         2           1           1    ?|\n",
      "       p_imp |         2           1           1    ?|\n",
      "       q_imp |         2           1           1    ?|\n",
      "       r_imp |         2           1           1    ?|\n",
      "       y_imp |         1           1           0    ?|\n",
      "       z_imp |         2           1           1    ?|\n",
      "        year |        20           1          19    ?|\n",
      "     cluster |       215         215           0    *|\n",
      "         1    ?|       2           1  \n",
      "-----------------------------------------------------+\n",
      "? = number of redundant parameters may be higher\n",
      "* = FE nested within cluster; treated as redundant for DoF computation\n",
      "\n",
      ". #delimit cr\n",
      "delimiter now cr\n",
      ". \n"
     ]
    }
   ],
   "source": [
    "%%stata\n",
    "egen journal1 = group(journal)\n",
    "#delimit ;\n",
    "reghdfe FKG log_num_authors log_num_pages both_genders prop_women,\n",
    "        absorb(journal1 a_imp b_imp c_imp  e_imp f_imp g_imp h_imp\n",
    "               i_imp j_imp k_imp l_imp m_imp n_imp o_imp p_imp q_imp r_imp y_imp z_imp\n",
    "               year ib0.cluster jel_flag) vce(cluster cluster);\n",
    "#delimit cr"
   ]
  },
  {
   "cell_type": "markdown",
   "metadata": {},
   "source": [
    "# Specification Curve Analysis"
   ]
  },
  {
   "cell_type": "markdown",
   "metadata": {},
   "source": [
    "Clearing the data set in memory, reloading, and creating the ```journal1``` variable"
   ]
  },
  {
   "cell_type": "code",
   "execution_count": 13,
   "metadata": {},
   "outputs": [
    {
     "name": "stdout",
     "output_type": "stream",
     "text": [
      "\n"
     ]
    }
   ],
   "source": [
    "%%stata -qui\n",
    "\n",
    "clear all\n",
    "use \"../data/data\", clear\n",
    "egen journal1 = group(journal)"
   ]
  },
  {
   "cell_type": "markdown",
   "metadata": {},
   "source": [
    "Modigying the ```.yml``` file by uncommenting the output variable ```log_flesch_kincaid_grade_level```:"
   ]
  },
  {
   "cell_type": "code",
   "execution_count": 14,
   "metadata": {},
   "outputs": [
    {
     "name": "stdout",
     "output_type": "stream",
     "text": [
      "Line uncommented successfully if it was commented!\n"
     ]
    }
   ],
   "source": [
    "import yaml\n",
    "\n",
    "# File name\n",
    "file_path = '../code/readability_graph_specurve.yml'\n",
    "\n",
    "# Read, modify, and save the file\n",
    "with open(file_path, 'r') as file:\n",
    "    lines = file.readlines()\n",
    "\n",
    "# Modify the target line\n",
    "modified_lines = []\n",
    "for line in lines:\n",
    "    stripped_line = line.strip()\n",
    "    if stripped_line.startswith(\"#     - log(F-K grade): log_flesch_kincaid_grade_level\"):\n",
    "        # Uncomment the line\n",
    "        modified_lines.append(line.replace(\"#     -\", \"-\"))  # Replace `#-` with `-`\n",
    "    else:\n",
    "        modified_lines.append(line)\n",
    "\n",
    "# Write the modified content back to the file\n",
    "with open(file_path, 'w') as file:\n",
    "    file.writelines(modified_lines)\n",
    "\n",
    "print(\"Line uncommented successfully if it was commented!\")"
   ]
  },
  {
   "cell_type": "markdown",
   "metadata": {},
   "source": [
    "Modifying the ```.yml``` file by uncommenting the regressor ```prop_women```:"
   ]
  },
  {
   "cell_type": "code",
   "execution_count": 15,
   "metadata": {},
   "outputs": [
    {
     "name": "stdout",
     "output_type": "stream",
     "text": [
      "Line uncommented successfully if it was commented!\n"
     ]
    }
   ],
   "source": [
    "# File name\n",
    "file_path = '../code/readability_graph_specurve.yml'\n",
    "\n",
    "# Read, modify, and save the file\n",
    "with open(file_path, 'r') as file:\n",
    "    lines = file.readlines()\n",
    "\n",
    "# Modify the target line\n",
    "modified_lines = []\n",
    "for line in lines:\n",
    "    stripped_line = line.strip()\n",
    "    if stripped_line.startswith(\"#     - Proportion of women: prop_women\"):\n",
    "        # Uncomment the line\n",
    "        modified_lines.append(line.replace(\"#     -\", \"-\"))  # Replace `#-` with `-`\n",
    "    else:\n",
    "        modified_lines.append(line)\n",
    "\n",
    "# Write the modified content back to the file\n",
    "with open(file_path, 'w') as file:\n",
    "    file.writelines(modified_lines)\n",
    "\n",
    "print(\"Line uncommented successfully if it was commented!\")"
   ]
  },
  {
   "cell_type": "markdown",
   "metadata": {},
   "source": [
    "Creating the specification curve by concentratng on the effect of ```prop_women``` on the outcome variable ```log_flesch_kincaid_grade_level```, by always controlling for the following regressors: ```both_genders```, ```log_num_authors```, ```log_num_pages```, and ```jel_flag```."
   ]
  },
  {
   "cell_type": "code",
   "execution_count": 17,
   "metadata": {},
   "outputs": [
    {
     "name": "stdout",
     "output_type": "stream",
     "text": [
      "\n",
      ". #delimit ;\n",
      "delimiter now ;\n",
      ". quietly specurve using \"readability_graph_specurve.yml\",\n",
      ">         desc noci99 width(8) height(10) relativesize(0.4)\n",
      ">         scale(0.7) title(\"Specification Curve Analsyis of Proportion of Women\n",
      "> \");\n",
      "\n",
      ". #delimit crs\n",
      "delimiter now ;\n",
      ". \n"
     ]
    },
    {
     "data": {
      "image/svg+xml": [
       "<svg xmlns=\"http://www.w3.org/2000/svg\" xmlns:xlink=\"http://www.w3.org/1999/xlink\" version=\"1.1\" width=\"8.000in\" height=\"10.000in\" viewBox=\"0 0 5760 7200\">\n",
       "\t<desc>Stata Graph - Graph</desc>\n",
       "\t<rect x=\"0\" y=\"0\" width=\"5760\" height=\"7200\" style=\"fill:#EAF2F3;stroke:none\"/>\n",
       "\t<rect x=\"0.00\" y=\"0.00\" width=\"5760.00\" height=\"7200.00\" style=\"fill:#FFFFFF\"/>\n",
       "\t<rect x=\"5.76\" y=\"5.76\" width=\"5748.48\" height=\"7188.48\" style=\"fill:none;stroke:#FFFFFF;stroke-width:11.52\"/>\n",
       "\t<rect x=\"1132.20\" y=\"1030.95\" width=\"4426.20\" height=\"5785.43\" style=\"fill:#FFFFFF\"/>\n",
       "\t<rect x=\"1136.23\" y=\"1034.98\" width=\"4418.14\" height=\"5777.36\" style=\"fill:none;stroke:#FFFFFF;stroke-width:8.06\"/>\n",
       "\t<line x1=\"1132.20\" y1=\"1328.18\" x2=\"5558.40\" y2=\"1328.18\" style=\"stroke:#C10534;stroke-width:12.10\"/>\n",
       "\t<rect x=\"1220.85\" y=\"1774.57\" width=\"283.28\" height=\"1807.88\" style=\"fill:#BFBFBF\"/>\n",
       "\t<rect x=\"1220.85\" y=\"1774.57\" width=\"283.28\" height=\"1807.88\" style=\"fill:none;stroke:#606060;stroke-width:0.00\"/>\n",
       "\t<rect x=\"1504.13\" y=\"1758.82\" width=\"283.28\" height=\"1885.73\" style=\"fill:#BFBFBF\"/>\n",
       "\t<rect x=\"1504.13\" y=\"1758.82\" width=\"283.28\" height=\"1885.73\" style=\"fill:none;stroke:#606060;stroke-width:0.00\"/>\n",
       "\t<rect x=\"1787.40\" y=\"1855.13\" width=\"283.28\" height=\"1742.85\" style=\"fill:#BFBFBF\"/>\n",
       "\t<rect x=\"1787.40\" y=\"1855.13\" width=\"283.28\" height=\"1742.85\" style=\"fill:none;stroke:#606060;stroke-width:0.00\"/>\n",
       "\t<rect x=\"2070.68\" y=\"1815.07\" width=\"283.27\" height=\"1824.75\" style=\"fill:#BFBFBF\"/>\n",
       "\t<rect x=\"2070.68\" y=\"1815.07\" width=\"283.27\" height=\"1824.75\" style=\"fill:none;stroke:#606060;stroke-width:0.00\"/>\n",
       "\t<rect x=\"2353.95\" y=\"1574.32\" width=\"283.05\" height=\"2321.10\" style=\"fill:#BFBFBF\"/>\n",
       "\t<rect x=\"2353.95\" y=\"1574.32\" width=\"283.05\" height=\"2321.10\" style=\"fill:none;stroke:#606060;stroke-width:0.00\"/>\n",
       "\t<rect x=\"2637.00\" y=\"1640.02\" width=\"283.28\" height=\"2212.43\" style=\"fill:#BFBFBF\"/>\n",
       "\t<rect x=\"2637.00\" y=\"1640.02\" width=\"283.28\" height=\"2212.43\" style=\"fill:none;stroke:#606060;stroke-width:0.00\"/>\n",
       "\t<rect x=\"2920.28\" y=\"1728.23\" width=\"283.28\" height=\"2164.05\" style=\"fill:#BFBFBF\"/>\n",
       "\t<rect x=\"2920.28\" y=\"1728.23\" width=\"283.28\" height=\"2164.05\" style=\"fill:none;stroke:#606060;stroke-width:0.00\"/>\n",
       "\t<rect x=\"3203.55\" y=\"1769.63\" width=\"283.27\" height=\"2107.13\" style=\"fill:#BFBFBF\"/>\n",
       "\t<rect x=\"3203.55\" y=\"1769.63\" width=\"283.27\" height=\"2107.13\" style=\"fill:none;stroke:#606060;stroke-width:0.00\"/>\n",
       "\t<rect x=\"3486.83\" y=\"2029.50\" width=\"283.28\" height=\"1597.05\" style=\"fill:#BFBFBF\"/>\n",
       "\t<rect x=\"3486.83\" y=\"2029.50\" width=\"283.28\" height=\"1597.05\" style=\"fill:none;stroke:#606060;stroke-width:0.00\"/>\n",
       "\t<rect x=\"3770.10\" y=\"1972.57\" width=\"283.28\" height=\"1716.53\" style=\"fill:#BFBFBF\"/>\n",
       "\t<rect x=\"3770.10\" y=\"1972.57\" width=\"283.28\" height=\"1716.53\" style=\"fill:none;stroke:#606060;stroke-width:0.00\"/>\n",
       "\t<rect x=\"4053.38\" y=\"1994.85\" width=\"283.27\" height=\"1723.27\" style=\"fill:#BFBFBF\"/>\n",
       "\t<rect x=\"4053.38\" y=\"1994.85\" width=\"283.27\" height=\"1723.27\" style=\"fill:none;stroke:#606060;stroke-width:0.00\"/>\n",
       "\t<rect x=\"4336.65\" y=\"2074.50\" width=\"283.28\" height=\"1599.53\" style=\"fill:#BFBFBF\"/>\n",
       "\t<rect x=\"4336.65\" y=\"2074.50\" width=\"283.28\" height=\"1599.53\" style=\"fill:none;stroke:#606060;stroke-width:0.00\"/>\n",
       "\t<rect x=\"4619.93\" y=\"1912.27\" width=\"283.27\" height=\"2178.23\" style=\"fill:#BFBFBF\"/>\n",
       "\t<rect x=\"4619.93\" y=\"1912.27\" width=\"283.27\" height=\"2178.23\" style=\"fill:none;stroke:#606060;stroke-width:0.00\"/>\n",
       "\t<rect x=\"4903.20\" y=\"2012.85\" width=\"283.28\" height=\"2012.62\" style=\"fill:#BFBFBF\"/>\n",
       "\t<rect x=\"4903.20\" y=\"2012.85\" width=\"283.28\" height=\"2012.62\" style=\"fill:none;stroke:#606060;stroke-width:0.00\"/>\n",
       "\t<rect x=\"5186.48\" y=\"2067.30\" width=\"283.27\" height=\"1965.60\" style=\"fill:#BFBFBF\"/>\n",
       "\t<rect x=\"5186.48\" y=\"2067.30\" width=\"283.27\" height=\"1965.60\" style=\"fill:none;stroke:#606060;stroke-width:0.00\"/>\n",
       "\t<circle cx=\"1362.38\" cy=\"2678.63\" r=\"20.90\" style=\"fill:#0000FF\"/>\n",
       "\t<circle cx=\"1362.38\" cy=\"2678.63\" r=\"14.85\" style=\"fill:none;stroke:#0000FF;stroke-width:12.10\"/>\n",
       "\t<circle cx=\"1645.65\" cy=\"2701.80\" r=\"20.90\" style=\"fill:#0000FF\"/>\n",
       "\t<circle cx=\"1645.65\" cy=\"2701.80\" r=\"14.85\" style=\"fill:none;stroke:#0000FF;stroke-width:12.10\"/>\n",
       "\t<circle cx=\"1928.93\" cy=\"2726.55\" r=\"20.90\" style=\"fill:#0000FF\"/>\n",
       "\t<circle cx=\"1928.93\" cy=\"2726.55\" r=\"14.85\" style=\"fill:none;stroke:#0000FF;stroke-width:12.10\"/>\n",
       "\t<circle cx=\"2212.20\" cy=\"2727.45\" r=\"20.90\" style=\"fill:#0000FF\"/>\n",
       "\t<circle cx=\"2212.20\" cy=\"2727.45\" r=\"14.85\" style=\"fill:none;stroke:#0000FF;stroke-width:12.10\"/>\n",
       "\t<circle cx=\"3061.80\" cy=\"2810.48\" r=\"20.90\" style=\"fill:#0000FF\"/>\n",
       "\t<circle cx=\"3061.80\" cy=\"2810.48\" r=\"14.85\" style=\"fill:none;stroke:#0000FF;stroke-width:12.10\"/>\n",
       "\t<circle cx=\"3345.08\" cy=\"2823.30\" r=\"20.90\" style=\"fill:#0000FF\"/>\n",
       "\t<circle cx=\"3345.08\" cy=\"2823.30\" r=\"14.85\" style=\"fill:none;stroke:#0000FF;stroke-width:12.10\"/>\n",
       "\t<circle cx=\"3628.35\" cy=\"2828.02\" r=\"20.90\" style=\"fill:#0000FF\"/>\n",
       "\t<circle cx=\"3628.35\" cy=\"2828.02\" r=\"14.85\" style=\"fill:none;stroke:#0000FF;stroke-width:12.10\"/>\n",
       "\t<circle cx=\"3911.63\" cy=\"2830.95\" r=\"20.90\" style=\"fill:#0000FF\"/>\n",
       "\t<circle cx=\"3911.63\" cy=\"2830.95\" r=\"14.85\" style=\"fill:none;stroke:#0000FF;stroke-width:12.10\"/>\n",
       "\t<circle cx=\"4194.90\" cy=\"2856.60\" r=\"20.90\" style=\"fill:#0000FF\"/>\n",
       "\t<circle cx=\"4194.90\" cy=\"2856.60\" r=\"14.85\" style=\"fill:none;stroke:#0000FF;stroke-width:12.10\"/>\n",
       "\t<circle cx=\"4478.18\" cy=\"2874.38\" r=\"20.90\" style=\"fill:#0000FF\"/>\n",
       "\t<circle cx=\"4478.18\" cy=\"2874.38\" r=\"14.85\" style=\"fill:none;stroke:#0000FF;stroke-width:12.10\"/>\n",
       "\t<circle cx=\"4761.45\" cy=\"3001.50\" r=\"20.90\" style=\"fill:#0000FF\"/>\n",
       "\t<circle cx=\"4761.45\" cy=\"3001.50\" r=\"14.85\" style=\"fill:none;stroke:#0000FF;stroke-width:12.10\"/>\n",
       "\t<circle cx=\"5044.73\" cy=\"3019.27\" r=\"20.90\" style=\"fill:#0000FF\"/>\n",
       "\t<circle cx=\"5044.73\" cy=\"3019.27\" r=\"14.85\" style=\"fill:none;stroke:#0000FF;stroke-width:12.10\"/>\n",
       "\t<circle cx=\"5328.00\" cy=\"3050.10\" r=\"20.90\" style=\"fill:#0000FF\"/>\n",
       "\t<circle cx=\"5328.00\" cy=\"3050.10\" r=\"14.85\" style=\"fill:none;stroke:#0000FF;stroke-width:12.10\"/>\n",
       "\t<circle cx=\"2495.25\" cy=\"2735.10\" r=\"14.85\" style=\"fill:none;stroke:#0000FF;stroke-width:12.10\"/>\n",
       "\t<circle cx=\"2778.53\" cy=\"2746.35\" r=\"14.85\" style=\"fill:none;stroke:#0000FF;stroke-width:12.10\"/>\n",
       "\t<circle cx=\"1362.38\" cy=\"4767.75\" r=\"13.47\" style=\"fill:#938DD2\"/>\n",
       "\t<circle cx=\"1362.38\" cy=\"4767.75\" r=\"7.43\" style=\"fill:none;stroke:#938DD2;stroke-width:12.10\"/>\n",
       "\t<circle cx=\"1645.65\" cy=\"4767.75\" r=\"13.47\" style=\"fill:#938DD2\"/>\n",
       "\t<circle cx=\"1645.65\" cy=\"4767.75\" r=\"7.43\" style=\"fill:none;stroke:#938DD2;stroke-width:12.10\"/>\n",
       "\t<circle cx=\"1928.93\" cy=\"4767.75\" r=\"13.47\" style=\"fill:#938DD2\"/>\n",
       "\t<circle cx=\"1928.93\" cy=\"4767.75\" r=\"7.43\" style=\"fill:none;stroke:#938DD2;stroke-width:12.10\"/>\n",
       "\t<circle cx=\"2212.20\" cy=\"4767.75\" r=\"13.47\" style=\"fill:#938DD2\"/>\n",
       "\t<circle cx=\"2212.20\" cy=\"4767.75\" r=\"7.43\" style=\"fill:none;stroke:#938DD2;stroke-width:12.10\"/>\n",
       "\t<circle cx=\"2495.25\" cy=\"4767.75\" r=\"13.47\" style=\"fill:#938DD2\"/>\n",
       "\t<circle cx=\"2495.25\" cy=\"4767.75\" r=\"7.43\" style=\"fill:none;stroke:#938DD2;stroke-width:12.10\"/>\n",
       "\t<circle cx=\"2778.53\" cy=\"4767.75\" r=\"13.47\" style=\"fill:#938DD2\"/>\n",
       "\t<circle cx=\"2778.53\" cy=\"4767.75\" r=\"7.43\" style=\"fill:none;stroke:#938DD2;stroke-width:12.10\"/>\n",
       "\t<circle cx=\"3061.80\" cy=\"4767.75\" r=\"13.47\" style=\"fill:#938DD2\"/>\n",
       "\t<circle cx=\"3061.80\" cy=\"4767.75\" r=\"7.43\" style=\"fill:none;stroke:#938DD2;stroke-width:12.10\"/>\n",
       "\t<circle cx=\"3345.08\" cy=\"4767.75\" r=\"13.47\" style=\"fill:#938DD2\"/>\n",
       "\t<circle cx=\"3345.08\" cy=\"4767.75\" r=\"7.43\" style=\"fill:none;stroke:#938DD2;stroke-width:12.10\"/>\n",
       "\t<circle cx=\"3628.35\" cy=\"4767.75\" r=\"13.47\" style=\"fill:#938DD2\"/>\n",
       "\t<circle cx=\"3628.35\" cy=\"4767.75\" r=\"7.43\" style=\"fill:none;stroke:#938DD2;stroke-width:12.10\"/>\n",
       "\t<circle cx=\"3911.63\" cy=\"4767.75\" r=\"13.47\" style=\"fill:#938DD2\"/>\n",
       "\t<circle cx=\"3911.63\" cy=\"4767.75\" r=\"7.43\" style=\"fill:none;stroke:#938DD2;stroke-width:12.10\"/>\n",
       "\t<circle cx=\"4194.90\" cy=\"4767.75\" r=\"13.47\" style=\"fill:#938DD2\"/>\n",
       "\t<circle cx=\"4194.90\" cy=\"4767.75\" r=\"7.43\" style=\"fill:none;stroke:#938DD2;stroke-width:12.10\"/>\n",
       "\t<circle cx=\"4478.18\" cy=\"4767.75\" r=\"13.47\" style=\"fill:#938DD2\"/>\n",
       "\t<circle cx=\"4478.18\" cy=\"4767.75\" r=\"7.43\" style=\"fill:none;stroke:#938DD2;stroke-width:12.10\"/>\n",
       "\t<circle cx=\"4761.45\" cy=\"4767.75\" r=\"13.47\" style=\"fill:#938DD2\"/>\n",
       "\t<circle cx=\"4761.45\" cy=\"4767.75\" r=\"7.43\" style=\"fill:none;stroke:#938DD2;stroke-width:12.10\"/>\n",
       "\t<circle cx=\"5044.73\" cy=\"4767.75\" r=\"13.47\" style=\"fill:#938DD2\"/>\n",
       "\t<circle cx=\"5044.73\" cy=\"4767.75\" r=\"7.43\" style=\"fill:none;stroke:#938DD2;stroke-width:12.10\"/>\n",
       "\t<circle cx=\"5328.00\" cy=\"4767.75\" r=\"13.47\" style=\"fill:#938DD2\"/>\n",
       "\t<circle cx=\"5328.00\" cy=\"4767.75\" r=\"7.43\" style=\"fill:none;stroke:#938DD2;stroke-width:12.10\"/>\n",
       "\t<circle cx=\"1362.38\" cy=\"4931.10\" r=\"13.47\" style=\"fill:#CAC27E\"/>\n",
       "\t<circle cx=\"1362.38\" cy=\"4931.10\" r=\"7.43\" style=\"fill:none;stroke:#CAC27E;stroke-width:12.10\"/>\n",
       "\t<circle cx=\"1645.65\" cy=\"4931.10\" r=\"13.47\" style=\"fill:#CAC27E\"/>\n",
       "\t<circle cx=\"1645.65\" cy=\"4931.10\" r=\"7.43\" style=\"fill:none;stroke:#CAC27E;stroke-width:12.10\"/>\n",
       "\t<circle cx=\"1928.93\" cy=\"4931.10\" r=\"13.47\" style=\"fill:#CAC27E\"/>\n",
       "\t<circle cx=\"1928.93\" cy=\"4931.10\" r=\"7.43\" style=\"fill:none;stroke:#CAC27E;stroke-width:12.10\"/>\n",
       "\t<circle cx=\"2212.20\" cy=\"4931.10\" r=\"13.47\" style=\"fill:#CAC27E\"/>\n",
       "\t<circle cx=\"2212.20\" cy=\"4931.10\" r=\"7.43\" style=\"fill:none;stroke:#CAC27E;stroke-width:12.10\"/>\n",
       "\t<circle cx=\"2495.25\" cy=\"4931.10\" r=\"13.47\" style=\"fill:#CAC27E\"/>\n",
       "\t<circle cx=\"2495.25\" cy=\"4931.10\" r=\"7.43\" style=\"fill:none;stroke:#CAC27E;stroke-width:12.10\"/>\n",
       "\t<circle cx=\"2778.53\" cy=\"4931.10\" r=\"13.47\" style=\"fill:#CAC27E\"/>\n",
       "\t<circle cx=\"2778.53\" cy=\"4931.10\" r=\"7.43\" style=\"fill:none;stroke:#CAC27E;stroke-width:12.10\"/>\n",
       "\t<circle cx=\"3061.80\" cy=\"4931.10\" r=\"13.47\" style=\"fill:#CAC27E\"/>\n",
       "\t<circle cx=\"3061.80\" cy=\"4931.10\" r=\"7.43\" style=\"fill:none;stroke:#CAC27E;stroke-width:12.10\"/>\n",
       "\t<circle cx=\"3345.08\" cy=\"4931.10\" r=\"13.47\" style=\"fill:#CAC27E\"/>\n",
       "\t<circle cx=\"3345.08\" cy=\"4931.10\" r=\"7.43\" style=\"fill:none;stroke:#CAC27E;stroke-width:12.10\"/>\n",
       "\t<circle cx=\"3628.35\" cy=\"4931.10\" r=\"13.47\" style=\"fill:#CAC27E\"/>\n",
       "\t<circle cx=\"3628.35\" cy=\"4931.10\" r=\"7.43\" style=\"fill:none;stroke:#CAC27E;stroke-width:12.10\"/>\n",
       "\t<circle cx=\"3911.63\" cy=\"4931.10\" r=\"13.47\" style=\"fill:#CAC27E\"/>\n",
       "\t<circle cx=\"3911.63\" cy=\"4931.10\" r=\"7.43\" style=\"fill:none;stroke:#CAC27E;stroke-width:12.10\"/>\n",
       "\t<circle cx=\"4194.90\" cy=\"4931.10\" r=\"13.47\" style=\"fill:#CAC27E\"/>\n",
       "\t<circle cx=\"4194.90\" cy=\"4931.10\" r=\"7.43\" style=\"fill:none;stroke:#CAC27E;stroke-width:12.10\"/>\n",
       "\t<circle cx=\"4478.18\" cy=\"4931.10\" r=\"13.47\" style=\"fill:#CAC27E\"/>\n",
       "\t<circle cx=\"4478.18\" cy=\"4931.10\" r=\"7.43\" style=\"fill:none;stroke:#CAC27E;stroke-width:12.10\"/>\n",
       "\t<circle cx=\"4761.45\" cy=\"4931.10\" r=\"13.47\" style=\"fill:#CAC27E\"/>\n",
       "\t<circle cx=\"4761.45\" cy=\"4931.10\" r=\"7.43\" style=\"fill:none;stroke:#CAC27E;stroke-width:12.10\"/>\n",
       "\t<circle cx=\"5044.73\" cy=\"4931.10\" r=\"13.47\" style=\"fill:#CAC27E\"/>\n",
       "\t<circle cx=\"5044.73\" cy=\"4931.10\" r=\"7.43\" style=\"fill:none;stroke:#CAC27E;stroke-width:12.10\"/>\n",
       "\t<circle cx=\"5328.00\" cy=\"4931.10\" r=\"13.47\" style=\"fill:#CAC27E\"/>\n",
       "\t<circle cx=\"5328.00\" cy=\"4931.10\" r=\"7.43\" style=\"fill:none;stroke:#CAC27E;stroke-width:12.10\"/>\n",
       "\t<circle cx=\"1362.38\" cy=\"5094.45\" r=\"13.47\" style=\"fill:#A0522D\"/>\n",
       "\t<circle cx=\"1362.38\" cy=\"5094.45\" r=\"7.43\" style=\"fill:none;stroke:#A0522D;stroke-width:12.10\"/>\n",
       "\t<circle cx=\"1645.65\" cy=\"5094.45\" r=\"13.47\" style=\"fill:#A0522D\"/>\n",
       "\t<circle cx=\"1645.65\" cy=\"5094.45\" r=\"7.43\" style=\"fill:none;stroke:#A0522D;stroke-width:12.10\"/>\n",
       "\t<circle cx=\"1928.93\" cy=\"5094.45\" r=\"13.47\" style=\"fill:#A0522D\"/>\n",
       "\t<circle cx=\"1928.93\" cy=\"5094.45\" r=\"7.43\" style=\"fill:none;stroke:#A0522D;stroke-width:12.10\"/>\n",
       "\t<circle cx=\"2212.20\" cy=\"5094.45\" r=\"13.47\" style=\"fill:#A0522D\"/>\n",
       "\t<circle cx=\"2212.20\" cy=\"5094.45\" r=\"7.43\" style=\"fill:none;stroke:#A0522D;stroke-width:12.10\"/>\n",
       "\t<circle cx=\"2495.25\" cy=\"5094.45\" r=\"13.47\" style=\"fill:#A0522D\"/>\n",
       "\t<circle cx=\"2495.25\" cy=\"5094.45\" r=\"7.43\" style=\"fill:none;stroke:#A0522D;stroke-width:12.10\"/>\n",
       "\t<circle cx=\"2778.53\" cy=\"5094.45\" r=\"13.47\" style=\"fill:#A0522D\"/>\n",
       "\t<circle cx=\"2778.53\" cy=\"5094.45\" r=\"7.43\" style=\"fill:none;stroke:#A0522D;stroke-width:12.10\"/>\n",
       "\t<circle cx=\"3061.80\" cy=\"5094.45\" r=\"13.47\" style=\"fill:#A0522D\"/>\n",
       "\t<circle cx=\"3061.80\" cy=\"5094.45\" r=\"7.43\" style=\"fill:none;stroke:#A0522D;stroke-width:12.10\"/>\n",
       "\t<circle cx=\"3345.08\" cy=\"5094.45\" r=\"13.47\" style=\"fill:#A0522D\"/>\n",
       "\t<circle cx=\"3345.08\" cy=\"5094.45\" r=\"7.43\" style=\"fill:none;stroke:#A0522D;stroke-width:12.10\"/>\n",
       "\t<circle cx=\"3628.35\" cy=\"5094.45\" r=\"13.47\" style=\"fill:#A0522D\"/>\n",
       "\t<circle cx=\"3628.35\" cy=\"5094.45\" r=\"7.43\" style=\"fill:none;stroke:#A0522D;stroke-width:12.10\"/>\n",
       "\t<circle cx=\"3911.63\" cy=\"5094.45\" r=\"13.47\" style=\"fill:#A0522D\"/>\n",
       "\t<circle cx=\"3911.63\" cy=\"5094.45\" r=\"7.43\" style=\"fill:none;stroke:#A0522D;stroke-width:12.10\"/>\n",
       "\t<circle cx=\"4194.90\" cy=\"5094.45\" r=\"13.47\" style=\"fill:#A0522D\"/>\n",
       "\t<circle cx=\"4194.90\" cy=\"5094.45\" r=\"7.43\" style=\"fill:none;stroke:#A0522D;stroke-width:12.10\"/>\n",
       "\t<circle cx=\"4478.18\" cy=\"5094.45\" r=\"13.47\" style=\"fill:#A0522D\"/>\n",
       "\t<circle cx=\"4478.18\" cy=\"5094.45\" r=\"7.43\" style=\"fill:none;stroke:#A0522D;stroke-width:12.10\"/>\n",
       "\t<circle cx=\"4761.45\" cy=\"5094.45\" r=\"13.47\" style=\"fill:#A0522D\"/>\n",
       "\t<circle cx=\"4761.45\" cy=\"5094.45\" r=\"7.43\" style=\"fill:none;stroke:#A0522D;stroke-width:12.10\"/>\n",
       "\t<circle cx=\"5044.73\" cy=\"5094.45\" r=\"13.47\" style=\"fill:#A0522D\"/>\n",
       "\t<circle cx=\"5044.73\" cy=\"5094.45\" r=\"7.43\" style=\"fill:none;stroke:#A0522D;stroke-width:12.10\"/>\n",
       "\t<circle cx=\"5328.00\" cy=\"5094.45\" r=\"13.47\" style=\"fill:#A0522D\"/>\n",
       "\t<circle cx=\"5328.00\" cy=\"5094.45\" r=\"7.43\" style=\"fill:none;stroke:#A0522D;stroke-width:12.10\"/>\n",
       "\t<circle cx=\"1362.38\" cy=\"5339.48\" r=\"13.47\" style=\"fill:#7B92A8\"/>\n",
       "\t<circle cx=\"1362.38\" cy=\"5339.48\" r=\"7.43\" style=\"fill:none;stroke:#7B92A8;stroke-width:12.10\"/>\n",
       "\t<circle cx=\"1645.65\" cy=\"5584.50\" r=\"13.47\" style=\"fill:#7B92A8\"/>\n",
       "\t<circle cx=\"1645.65\" cy=\"5584.50\" r=\"7.43\" style=\"fill:none;stroke:#7B92A8;stroke-width:12.10\"/>\n",
       "\t<circle cx=\"1928.93\" cy=\"5829.53\" r=\"13.47\" style=\"fill:#7B92A8\"/>\n",
       "\t<circle cx=\"1928.93\" cy=\"5829.53\" r=\"7.43\" style=\"fill:none;stroke:#7B92A8;stroke-width:12.10\"/>\n",
       "\t<circle cx=\"2212.20\" cy=\"6074.55\" r=\"13.47\" style=\"fill:#7B92A8\"/>\n",
       "\t<circle cx=\"2212.20\" cy=\"6074.55\" r=\"7.43\" style=\"fill:none;stroke:#7B92A8;stroke-width:12.10\"/>\n",
       "\t<circle cx=\"2495.25\" cy=\"5257.80\" r=\"13.47\" style=\"fill:#7B92A8\"/>\n",
       "\t<circle cx=\"2495.25\" cy=\"5257.80\" r=\"7.43\" style=\"fill:none;stroke:#7B92A8;stroke-width:12.10\"/>\n",
       "\t<circle cx=\"2778.53\" cy=\"5666.18\" r=\"13.47\" style=\"fill:#7B92A8\"/>\n",
       "\t<circle cx=\"2778.53\" cy=\"5666.18\" r=\"7.43\" style=\"fill:none;stroke:#7B92A8;stroke-width:12.10\"/>\n",
       "\t<circle cx=\"3061.80\" cy=\"5747.85\" r=\"13.47\" style=\"fill:#7B92A8\"/>\n",
       "\t<circle cx=\"3061.80\" cy=\"5747.85\" r=\"7.43\" style=\"fill:none;stroke:#7B92A8;stroke-width:12.10\"/>\n",
       "\t<circle cx=\"3345.08\" cy=\"6237.90\" r=\"13.47\" style=\"fill:#7B92A8\"/>\n",
       "\t<circle cx=\"3345.08\" cy=\"6237.90\" r=\"7.43\" style=\"fill:none;stroke:#7B92A8;stroke-width:12.10\"/>\n",
       "\t<circle cx=\"3628.35\" cy=\"5911.20\" r=\"13.47\" style=\"fill:#7B92A8\"/>\n",
       "\t<circle cx=\"3628.35\" cy=\"5911.20\" r=\"7.43\" style=\"fill:none;stroke:#7B92A8;stroke-width:12.10\"/>\n",
       "\t<circle cx=\"3911.63\" cy=\"6156.23\" r=\"13.47\" style=\"fill:#7B92A8\"/>\n",
       "\t<circle cx=\"3911.63\" cy=\"6156.23\" r=\"7.43\" style=\"fill:none;stroke:#7B92A8;stroke-width:12.10\"/>\n",
       "\t<circle cx=\"4194.90\" cy=\"6401.25\" r=\"13.47\" style=\"fill:#7B92A8\"/>\n",
       "\t<circle cx=\"4194.90\" cy=\"6401.25\" r=\"7.43\" style=\"fill:none;stroke:#7B92A8;stroke-width:12.10\"/>\n",
       "\t<circle cx=\"4478.18\" cy=\"6319.58\" r=\"13.47\" style=\"fill:#7B92A8\"/>\n",
       "\t<circle cx=\"4478.18\" cy=\"6319.58\" r=\"7.43\" style=\"fill:none;stroke:#7B92A8;stroke-width:12.10\"/>\n",
       "\t<circle cx=\"4761.45\" cy=\"5421.15\" r=\"13.47\" style=\"fill:#7B92A8\"/>\n",
       "\t<circle cx=\"4761.45\" cy=\"5421.15\" r=\"7.43\" style=\"fill:none;stroke:#7B92A8;stroke-width:12.10\"/>\n",
       "\t<circle cx=\"5044.73\" cy=\"5502.83\" r=\"13.47\" style=\"fill:#7B92A8\"/>\n",
       "\t<circle cx=\"5044.73\" cy=\"5502.83\" r=\"7.43\" style=\"fill:none;stroke:#7B92A8;stroke-width:12.10\"/>\n",
       "\t<circle cx=\"5328.00\" cy=\"5992.88\" r=\"13.47\" style=\"fill:#7B92A8\"/>\n",
       "\t<circle cx=\"5328.00\" cy=\"5992.88\" r=\"7.43\" style=\"fill:none;stroke:#7B92A8;stroke-width:12.10\"/>\n",
       "\t<circle cx=\"1362.38\" cy=\"6564.60\" r=\"13.47\" style=\"fill:#2D6D66\"/>\n",
       "\t<circle cx=\"1362.38\" cy=\"6564.60\" r=\"7.43\" style=\"fill:none;stroke:#2D6D66;stroke-width:12.10\"/>\n",
       "\t<circle cx=\"1645.65\" cy=\"6564.60\" r=\"13.47\" style=\"fill:#2D6D66\"/>\n",
       "\t<circle cx=\"1645.65\" cy=\"6564.60\" r=\"7.43\" style=\"fill:none;stroke:#2D6D66;stroke-width:12.10\"/>\n",
       "\t<circle cx=\"1928.93\" cy=\"6564.60\" r=\"13.47\" style=\"fill:#2D6D66\"/>\n",
       "\t<circle cx=\"1928.93\" cy=\"6564.60\" r=\"7.43\" style=\"fill:none;stroke:#2D6D66;stroke-width:12.10\"/>\n",
       "\t<circle cx=\"2212.20\" cy=\"6564.60\" r=\"13.47\" style=\"fill:#2D6D66\"/>\n",
       "\t<circle cx=\"2212.20\" cy=\"6564.60\" r=\"7.43\" style=\"fill:none;stroke:#2D6D66;stroke-width:12.10\"/>\n",
       "\t<circle cx=\"2495.25\" cy=\"6564.60\" r=\"13.47\" style=\"fill:#2D6D66\"/>\n",
       "\t<circle cx=\"2495.25\" cy=\"6564.60\" r=\"7.43\" style=\"fill:none;stroke:#2D6D66;stroke-width:12.10\"/>\n",
       "\t<circle cx=\"2778.53\" cy=\"6564.60\" r=\"13.47\" style=\"fill:#2D6D66\"/>\n",
       "\t<circle cx=\"2778.53\" cy=\"6564.60\" r=\"7.43\" style=\"fill:none;stroke:#2D6D66;stroke-width:12.10\"/>\n",
       "\t<circle cx=\"3061.80\" cy=\"6564.60\" r=\"13.47\" style=\"fill:#2D6D66\"/>\n",
       "\t<circle cx=\"3061.80\" cy=\"6564.60\" r=\"7.43\" style=\"fill:none;stroke:#2D6D66;stroke-width:12.10\"/>\n",
       "\t<circle cx=\"3345.08\" cy=\"6564.60\" r=\"13.47\" style=\"fill:#2D6D66\"/>\n",
       "\t<circle cx=\"3345.08\" cy=\"6564.60\" r=\"7.43\" style=\"fill:none;stroke:#2D6D66;stroke-width:12.10\"/>\n",
       "\t<circle cx=\"3628.35\" cy=\"6564.60\" r=\"13.47\" style=\"fill:#2D6D66\"/>\n",
       "\t<circle cx=\"3628.35\" cy=\"6564.60\" r=\"7.43\" style=\"fill:none;stroke:#2D6D66;stroke-width:12.10\"/>\n",
       "\t<circle cx=\"3911.63\" cy=\"6564.60\" r=\"13.47\" style=\"fill:#2D6D66\"/>\n",
       "\t<circle cx=\"3911.63\" cy=\"6564.60\" r=\"7.43\" style=\"fill:none;stroke:#2D6D66;stroke-width:12.10\"/>\n",
       "\t<circle cx=\"4194.90\" cy=\"6564.60\" r=\"13.47\" style=\"fill:#2D6D66\"/>\n",
       "\t<circle cx=\"4194.90\" cy=\"6564.60\" r=\"7.43\" style=\"fill:none;stroke:#2D6D66;stroke-width:12.10\"/>\n",
       "\t<circle cx=\"4478.18\" cy=\"6564.60\" r=\"13.47\" style=\"fill:#2D6D66\"/>\n",
       "\t<circle cx=\"4478.18\" cy=\"6564.60\" r=\"7.43\" style=\"fill:none;stroke:#2D6D66;stroke-width:12.10\"/>\n",
       "\t<circle cx=\"4761.45\" cy=\"6564.60\" r=\"13.47\" style=\"fill:#2D6D66\"/>\n",
       "\t<circle cx=\"4761.45\" cy=\"6564.60\" r=\"7.43\" style=\"fill:none;stroke:#2D6D66;stroke-width:12.10\"/>\n",
       "\t<circle cx=\"5044.73\" cy=\"6564.60\" r=\"13.47\" style=\"fill:#2D6D66\"/>\n",
       "\t<circle cx=\"5044.73\" cy=\"6564.60\" r=\"7.43\" style=\"fill:none;stroke:#2D6D66;stroke-width:12.10\"/>\n",
       "\t<circle cx=\"5328.00\" cy=\"6564.60\" r=\"13.47\" style=\"fill:#2D6D66\"/>\n",
       "\t<circle cx=\"5328.00\" cy=\"6564.60\" r=\"7.43\" style=\"fill:none;stroke:#2D6D66;stroke-width:12.10\"/>\n",
       "\t<circle cx=\"1362.38\" cy=\"6727.95\" r=\"13.47\" style=\"fill:#9C8847\"/>\n",
       "\t<circle cx=\"1362.38\" cy=\"6727.95\" r=\"7.43\" style=\"fill:none;stroke:#9C8847;stroke-width:12.10\"/>\n",
       "\t<circle cx=\"1645.65\" cy=\"6727.95\" r=\"13.47\" style=\"fill:#9C8847\"/>\n",
       "\t<circle cx=\"1645.65\" cy=\"6727.95\" r=\"7.43\" style=\"fill:none;stroke:#9C8847;stroke-width:12.10\"/>\n",
       "\t<circle cx=\"1928.93\" cy=\"6727.95\" r=\"13.47\" style=\"fill:#9C8847\"/>\n",
       "\t<circle cx=\"1928.93\" cy=\"6727.95\" r=\"7.43\" style=\"fill:none;stroke:#9C8847;stroke-width:12.10\"/>\n",
       "\t<circle cx=\"2212.20\" cy=\"6727.95\" r=\"13.47\" style=\"fill:#9C8847\"/>\n",
       "\t<circle cx=\"2212.20\" cy=\"6727.95\" r=\"7.43\" style=\"fill:none;stroke:#9C8847;stroke-width:12.10\"/>\n",
       "\t<circle cx=\"2495.25\" cy=\"6727.95\" r=\"13.47\" style=\"fill:#9C8847\"/>\n",
       "\t<circle cx=\"2495.25\" cy=\"6727.95\" r=\"7.43\" style=\"fill:none;stroke:#9C8847;stroke-width:12.10\"/>\n",
       "\t<circle cx=\"2778.53\" cy=\"6727.95\" r=\"13.47\" style=\"fill:#9C8847\"/>\n",
       "\t<circle cx=\"2778.53\" cy=\"6727.95\" r=\"7.43\" style=\"fill:none;stroke:#9C8847;stroke-width:12.10\"/>\n",
       "\t<circle cx=\"3061.80\" cy=\"6727.95\" r=\"13.47\" style=\"fill:#9C8847\"/>\n",
       "\t<circle cx=\"3061.80\" cy=\"6727.95\" r=\"7.43\" style=\"fill:none;stroke:#9C8847;stroke-width:12.10\"/>\n",
       "\t<circle cx=\"3345.08\" cy=\"6727.95\" r=\"13.47\" style=\"fill:#9C8847\"/>\n",
       "\t<circle cx=\"3345.08\" cy=\"6727.95\" r=\"7.43\" style=\"fill:none;stroke:#9C8847;stroke-width:12.10\"/>\n",
       "\t<circle cx=\"3628.35\" cy=\"6727.95\" r=\"13.47\" style=\"fill:#9C8847\"/>\n",
       "\t<circle cx=\"3628.35\" cy=\"6727.95\" r=\"7.43\" style=\"fill:none;stroke:#9C8847;stroke-width:12.10\"/>\n",
       "\t<circle cx=\"3911.63\" cy=\"6727.95\" r=\"13.47\" style=\"fill:#9C8847\"/>\n",
       "\t<circle cx=\"3911.63\" cy=\"6727.95\" r=\"7.43\" style=\"fill:none;stroke:#9C8847;stroke-width:12.10\"/>\n",
       "\t<circle cx=\"4194.90\" cy=\"6727.95\" r=\"13.47\" style=\"fill:#9C8847\"/>\n",
       "\t<circle cx=\"4194.90\" cy=\"6727.95\" r=\"7.43\" style=\"fill:none;stroke:#9C8847;stroke-width:12.10\"/>\n",
       "\t<circle cx=\"4478.18\" cy=\"6727.95\" r=\"13.47\" style=\"fill:#9C8847\"/>\n",
       "\t<circle cx=\"4478.18\" cy=\"6727.95\" r=\"7.43\" style=\"fill:none;stroke:#9C8847;stroke-width:12.10\"/>\n",
       "\t<circle cx=\"4761.45\" cy=\"6727.95\" r=\"13.47\" style=\"fill:#9C8847\"/>\n",
       "\t<circle cx=\"4761.45\" cy=\"6727.95\" r=\"7.43\" style=\"fill:none;stroke:#9C8847;stroke-width:12.10\"/>\n",
       "\t<circle cx=\"5044.73\" cy=\"6727.95\" r=\"13.47\" style=\"fill:#9C8847\"/>\n",
       "\t<circle cx=\"5044.73\" cy=\"6727.95\" r=\"7.43\" style=\"fill:none;stroke:#9C8847;stroke-width:12.10\"/>\n",
       "\t<circle cx=\"5328.00\" cy=\"6727.95\" r=\"13.47\" style=\"fill:#9C8847\"/>\n",
       "\t<circle cx=\"5328.00\" cy=\"6727.95\" r=\"7.43\" style=\"fill:none;stroke:#9C8847;stroke-width:12.10\"/>\n",
       "\t<line x1=\"1132.20\" y1=\"6816.38\" x2=\"1132.20\" y2=\"1030.95\" style=\"stroke:#000000;stroke-width:8.06\"/>\n",
       "\t<line x1=\"1132.20\" y1=\"4522.50\" x2=\"1076.18\" y2=\"4522.50\" style=\"stroke:#000000;stroke-width:8.06\"/>\n",
       "\t<text x=\"1048.05\" y=\"4561.77\" style=\"font-family:'Helvetica';font-size:112.05px;fill:#000000\" text-anchor=\"end\">-0.039</text>\n",
       "\t<line x1=\"1132.20\" y1=\"3671.78\" x2=\"1076.18\" y2=\"3671.78\" style=\"stroke:#000000;stroke-width:8.06\"/>\n",
       "\t<text x=\"1048.05\" y=\"3711.05\" style=\"font-family:'Helvetica';font-size:112.05px;fill:#000000\" text-anchor=\"end\">-0.029</text>\n",
       "\t<line x1=\"1132.20\" y1=\"2821.05\" x2=\"1076.18\" y2=\"2821.05\" style=\"stroke:#000000;stroke-width:8.06\"/>\n",
       "\t<text x=\"1048.05\" y=\"2860.32\" style=\"font-family:'Helvetica';font-size:112.05px;fill:#000000\" text-anchor=\"end\">-0.018</text>\n",
       "\t<line x1=\"1132.20\" y1=\"1970.32\" x2=\"1076.18\" y2=\"1970.32\" style=\"stroke:#000000;stroke-width:8.06\"/>\n",
       "\t<text x=\"1048.05\" y=\"2009.60\" style=\"font-family:'Helvetica';font-size:112.05px;fill:#000000\" text-anchor=\"end\">-0.008</text>\n",
       "\t<line x1=\"1132.20\" y1=\"1119.60\" x2=\"1076.18\" y2=\"1119.60\" style=\"stroke:#000000;stroke-width:8.06\"/>\n",
       "\t<text x=\"1048.05\" y=\"1158.87\" style=\"font-family:'Helvetica';font-size:112.05px;fill:#000000\" text-anchor=\"end\">0.003</text>\n",
       "\t<text x=\"1104.08\" y=\"1367.45\" style=\"font-family:'Helvetica';font-size:112.05px;fill:#C10534\" text-anchor=\"end\">0</text>\n",
       "\t<text x=\"1104.08\" y=\"4705.52\" style=\"font-family:'Helvetica';font-weight:bold;font-size:56.03px;fill:#000000\" text-anchor=\"end\">Dependent variable</text>\n",
       "\t<text x=\"1104.08\" y=\"4868.87\" style=\"font-family:'Helvetica';font-weight:bold;font-size:56.03px;fill:#000000\" text-anchor=\"end\">Focal variable</text>\n",
       "\t<text x=\"1104.08\" y=\"5032.22\" style=\"font-family:'Helvetica';font-weight:bold;font-size:56.03px;fill:#000000\" text-anchor=\"end\">Control variables</text>\n",
       "\t<text x=\"1104.08\" y=\"5195.56\" style=\"font-family:'Helvetica';font-weight:bold;font-size:56.03px;fill:#000000\" text-anchor=\"end\">Fixed effects</text>\n",
       "\t<text x=\"1104.08\" y=\"6502.37\" style=\"font-family:'Helvetica';font-weight:bold;font-size:56.03px;fill:#000000\" text-anchor=\"end\">Standard error clustering</text>\n",
       "\t<text x=\"1104.08\" y=\"6665.72\" style=\"font-family:'Helvetica';font-weight:bold;font-size:56.03px;fill:#000000\" text-anchor=\"end\">Condition</text>\n",
       "\t<text x=\"1104.08\" y=\"4787.19\" style=\"font-family:'Helvetica';font-size:56.03px;fill:#000000\" text-anchor=\"end\">log(F-K grade)</text>\n",
       "\t<text x=\"1104.08\" y=\"4950.54\" style=\"font-family:'Helvetica';font-size:56.03px;fill:#000000\" text-anchor=\"end\">Proportion of women</text>\n",
       "\t<text x=\"1104.08\" y=\"5113.89\" style=\"font-family:'Helvetica';font-size:56.03px;fill:#000000\" text-anchor=\"end\">Baseline</text>\n",
       "\t<text x=\"1104.08\" y=\"5277.24\" style=\"font-family:'Helvetica';font-size:56.03px;fill:#000000\" text-anchor=\"end\">Journals</text>\n",
       "\t<text x=\"1104.08\" y=\"5358.92\" style=\"font-family:'Helvetica';font-size:56.03px;fill:#000000\" text-anchor=\"end\">JEL code</text>\n",
       "\t<text x=\"1104.08\" y=\"5440.59\" style=\"font-family:'Helvetica';font-size:56.03px;fill:#000000\" text-anchor=\"end\">Years</text>\n",
       "\t<text x=\"1104.08\" y=\"5522.27\" style=\"font-family:'Helvetica';font-size:56.03px;fill:#000000\" text-anchor=\"end\">Clusters</text>\n",
       "\t<text x=\"1104.08\" y=\"5603.94\" style=\"font-family:'Helvetica';font-size:56.03px;fill:#000000\" text-anchor=\"end\">Journals, JEL code</text>\n",
       "\t<text x=\"1104.08\" y=\"5685.62\" style=\"font-family:'Helvetica';font-size:56.03px;fill:#000000\" text-anchor=\"end\">Journals, Years</text>\n",
       "\t<text x=\"1104.08\" y=\"5767.29\" style=\"font-family:'Helvetica';font-size:56.03px;fill:#000000\" text-anchor=\"end\">Journals, Clusters</text>\n",
       "\t<text x=\"1104.08\" y=\"5848.97\" style=\"font-family:'Helvetica';font-size:56.03px;fill:#000000\" text-anchor=\"end\">JEL code, Years</text>\n",
       "\t<text x=\"1104.08\" y=\"5930.64\" style=\"font-family:'Helvetica';font-size:56.03px;fill:#000000\" text-anchor=\"end\">JEL code, Clusters</text>\n",
       "\t<text x=\"1104.08\" y=\"6012.32\" style=\"font-family:'Helvetica';font-size:56.03px;fill:#000000\" text-anchor=\"end\">Year, Clusters</text>\n",
       "\t<text x=\"1104.08\" y=\"6093.99\" style=\"font-family:'Helvetica';font-size:56.03px;fill:#000000\" text-anchor=\"end\">Journals, JEL code, Years</text>\n",
       "\t<text x=\"1104.08\" y=\"6175.67\" style=\"font-family:'Helvetica';font-size:56.03px;fill:#000000\" text-anchor=\"end\">Journals, JEL code, Clusters</text>\n",
       "\t<text x=\"1104.08\" y=\"6257.34\" style=\"font-family:'Helvetica';font-size:56.03px;fill:#000000\" text-anchor=\"end\">Journals, Years, Clusters</text>\n",
       "\t<text x=\"1104.08\" y=\"6339.02\" style=\"font-family:'Helvetica';font-size:56.03px;fill:#000000\" text-anchor=\"end\">JEL code, Years, Clusters</text>\n",
       "\t<text x=\"1104.08\" y=\"6420.69\" style=\"font-family:'Helvetica';font-size:56.03px;fill:#000000\" text-anchor=\"end\">Journals, JEL code, Years, Clusters</text>\n",
       "\t<text x=\"1104.08\" y=\"6584.04\" style=\"font-family:'Helvetica';font-size:56.03px;fill:#000000\" text-anchor=\"end\">By Network</text>\n",
       "\t<text x=\"1104.08\" y=\"6747.39\" style=\"font-family:'Helvetica';font-size:56.03px;fill:#000000\" text-anchor=\"end\">All sample</text>\n",
       "\t<line x1=\"1132.20\" y1=\"6816.38\" x2=\"5558.40\" y2=\"6816.38\" style=\"stroke:#000000;stroke-width:8.06\"/>\n",
       "\t<text x=\"1362.38\" y=\"6922.82\" style=\"font-family:'Helvetica';font-size:112.05px;fill:#000000\" text-anchor=\"middle\">1</text>\n",
       "\t<text x=\"5328.00\" y=\"6922.82\" style=\"font-family:'Helvetica';font-size:112.05px;fill:#000000\" text-anchor=\"middle\">15</text>\n",
       "\t<rect x=\"2032.65\" y=\"494.32\" width=\"2625.30\" height=\"488.25\" style=\"fill:#FFFFFF\"/>\n",
       "\t<rect x=\"2036.68\" y=\"498.36\" width=\"2617.24\" height=\"480.19\" style=\"fill:none;stroke:#FFFFFF;stroke-width:8.06\"/>\n",
       "\t<circle cx=\"2114.10\" cy=\"596.93\" r=\"20.90\" style=\"fill:#0000FF\"/>\n",
       "\t<circle cx=\"2114.10\" cy=\"596.93\" r=\"14.85\" style=\"fill:none;stroke:#0000FF;stroke-width:12.10\"/>\n",
       "\t<circle cx=\"2114.10\" cy=\"738.45\" r=\"14.85\" style=\"fill:none;stroke:#0000FF;stroke-width:12.10\"/>\n",
       "\t<line x1=\"2093.17\" y1=\"879.98\" x2=\"2135.03\" y2=\"879.98\" stroke-linecap=\"round\" style=\"fill:none;stroke:#0000FF;stroke-width:12.10\"/>\n",
       "\t<line x1=\"2114.10\" y1=\"900.90\" x2=\"2114.10\" y2=\"859.05\" stroke-linecap=\"round\" style=\"fill:none;stroke:#0000FF;stroke-width:12.10\"/>\n",
       "\t<circle cx=\"3474.00\" cy=\"596.93\" r=\"20.90\" style=\"fill:#FF0000\"/>\n",
       "\t<circle cx=\"3474.00\" cy=\"596.93\" r=\"14.85\" style=\"fill:none;stroke:#FF0000;stroke-width:12.10\"/>\n",
       "\t<rect x=\"3432.15\" y=\"696.38\" width=\"83.92\" height=\"84.15\" style=\"fill:#E0E0E0\"/>\n",
       "\t<rect x=\"3432.15\" y=\"696.38\" width=\"83.92\" height=\"84.15\" style=\"fill:none;stroke:#C0C0C0;stroke-width:0.00\"/>\n",
       "\t<rect x=\"3432.15\" y=\"838.13\" width=\"83.92\" height=\"83.93\" style=\"fill:#BFBFBF\"/>\n",
       "\t<rect x=\"3432.15\" y=\"838.13\" width=\"83.92\" height=\"83.93\" style=\"fill:none;stroke:#606060;stroke-width:0.00\"/>\n",
       "\t<text x=\"2255.18\" y=\"626.36\" style=\"fill:#000000\">\n",
       "\t\t<tspan style=\"font-family:'Helvetica';font-size:83.93px\">Point estimate (</tspan>\n",
       "\t\t<tspan style=\"font-family:'Helvetica';font-style:italic;font-size:83.93px\">p</tspan>\n",
       "\t\t<tspan style=\"font-family:'Helvetica';font-size:83.93px\">&lt;0.01)</tspan>\n",
       "\t</text>\n",
       "\t<text x=\"2255.18\" y=\"767.88\" style=\"fill:#000000\">\n",
       "\t\t<tspan style=\"font-family:'Helvetica';font-size:83.93px\">Point estimate (</tspan>\n",
       "\t\t<tspan style=\"font-family:'Helvetica';font-style:italic;font-size:83.93px\">p</tspan>\n",
       "\t\t<tspan style=\"font-family:'Helvetica';font-size:83.93px\">&lt;0.05)</tspan>\n",
       "\t</text>\n",
       "\t<text x=\"2255.18\" y=\"909.41\" style=\"fill:#000000\">\n",
       "\t\t<tspan style=\"font-family:'Helvetica';font-size:83.93px\">Point estimate (</tspan>\n",
       "\t\t<tspan style=\"font-family:'Helvetica';font-style:italic;font-size:83.93px\">p</tspan>\n",
       "\t\t<tspan style=\"font-family:'Helvetica';font-size:83.93px\">&lt;0.1)</tspan>\n",
       "\t</text>\n",
       "\t<text x=\"3636.00\" y=\"626.36\" style=\"fill:#000000\">\n",
       "\t\t<tspan style=\"font-family:'Helvetica';font-size:83.93px\">Point estimate (</tspan>\n",
       "\t\t<tspan style=\"font-family:'Helvetica';font-style:italic;font-size:83.93px\">p</tspan>\n",
       "\t\t<tspan style=\"font-family:'Helvetica';font-size:83.93px\">≥0.1)</tspan>\n",
       "\t</text>\n",
       "\t<text x=\"3636.00\" y=\"767.88\" style=\"font-family:'Helvetica';font-size:83.93px;fill:#000000\">99% CI (hidden)</text>\n",
       "\t<text x=\"3636.00\" y=\"909.41\" style=\"font-family:'Helvetica';font-size:83.93px;fill:#000000\">95% CI</text>\n",
       "\t<text x=\"3345.30\" y=\"362.97\" style=\"font-family:'Helvetica';font-size:195.98px;fill:#1E2D53\" text-anchor=\"middle\">Specification Curve Analsyis of Proportion of Women</text>\n",
       "</svg>"
      ],
      "text/plain": [
       "<IPython.core.display.SVG object>"
      ]
     },
     "metadata": {},
     "output_type": "display_data"
    }
   ],
   "source": [
    "%%stata\n",
    "#delimit ;\n",
    "quietly specurve using \"readability_graph_specurve.yml\",\n",
    "        desc noci99 width(8) height(10) relativesize(0.4)\n",
    "        scale(0.7) title(\"Specification Curve Analsyis of Proportion of Women\");\n",
    "#delimit crs"
   ]
  },
  {
   "cell_type": "code",
   "execution_count": null,
   "metadata": {},
   "outputs": [],
   "source": []
  }
 ],
 "metadata": {
  "kernelspec": {
   "display_name": "Python 3 (ipykernel)",
   "language": "python",
   "name": "python3"
  },
  "language_info": {
   "codemirror_mode": {
    "name": "ipython",
    "version": 3
   },
   "file_extension": ".py",
   "mimetype": "text/x-python",
   "name": "python",
   "nbconvert_exporter": "python",
   "pygments_lexer": "ipython3",
   "version": "3.11.0"
  }
 },
 "nbformat": 4,
 "nbformat_minor": 4
}

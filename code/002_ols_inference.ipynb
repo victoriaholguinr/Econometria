{
 "cells": [
  {
   "cell_type": "markdown",
   "metadata": {},
   "source": [
    "# Least Squares - Inference"
   ]
  },
  {
   "cell_type": "code",
   "execution_count": 1,
   "metadata": {},
   "outputs": [],
   "source": [
    "%%capture\n",
    "import stata_setup, os\n",
    "if os.name == 'nt':\n",
    "    stata_setup.config('C:/Program Files/Stata17/','mp')\n",
    "else:\n",
    "    stata_setup.config('/usr/local/stata17','mp')"
   ]
  },
  {
   "cell_type": "markdown",
   "metadata": {},
   "source": [
    "We load the data, rename the outcome variable, generate the indicator variables for ```year``` and ```cluster``` and define local Stata variables called ```journals``` and ```jel_imp``` which collects all relevant indicators."
   ]
  },
  {
   "cell_type": "code",
   "execution_count": 2,
   "metadata": {},
   "outputs": [
    {
     "name": "stdout",
     "output_type": "stream",
     "text": [
      "\n"
     ]
    }
   ],
   "source": [
    "%%stata -qui\n",
    "\n",
    "use \"../data/data\", clear\n",
    "rename log_flesch_kincaid_grade_level FKG\n",
    "quietly tabulate year, generate(y_)\n",
    "quietly tabulate cluster, generate(c_)\n",
    "\n",
    "local journals  ecm jpe qje res  //AER based category\n",
    "\n",
    "local jel_imp a_imp b_imp c_imp  e_imp f_imp g_imp h_imp i_imp j_imp k_imp /// \n",
    "\t\tl_imp m_imp n_imp o_imp p_imp q_imp r_imp y_imp z_imp // D JEL based case"
   ]
  },
  {
   "cell_type": "markdown",
   "metadata": {},
   "source": [
    "Performing the OLS regression of $\\mathbf{Y}$ on $\\mathbf{X}$ using ```Stata``` and saving a sub-vector of the original $\\widehat{\\beta}$ and its correponding submatrix $\\widehat{V}_{\\beta}$ (Note that row and/or column names are missing in some cases):"
   ]
  },
  {
   "cell_type": "code",
   "execution_count": 3,
   "metadata": {},
   "outputs": [
    {
     "name": "stdout",
     "output_type": "stream",
     "text": [
      "\n"
     ]
    }
   ],
   "source": [
    "%%stata -qui\n",
    "#delimit ;\n",
    "reg FKG log_num_authors log_num_pages both_genders prop_women\n",
    "\t\t\t`journals' `jel_imp' y_2-y_20  c_2-c_215  jel_flag, vce(cluster cluster);\n",
    "matrix b = e(b)[1,\"log_num_authors\"],e(b)[1,\"log_num_pages\"],\n",
    "                e(b)[1,\"both_genders\"],e(b)[1,\"prop_women\"],e(b)[1,\"_cons\"];\n",
    "matrix V = (e(V)[1,1], e(V)[1,2], e(V)[1,3], e(V)[1,4], e(V)[1,262] \\ \n",
    "            e(V)[2,1], e(V)[2,2], e(V)[2,3], e(V)[2,4], e(V)[2,262] \\ \n",
    "            e(V)[3,1], e(V)[3,2], e(V)[3,3], e(V)[3,4], e(V)[3,262] \\ \n",
    "            e(V)[4,1], e(V)[4,2], e(V)[4,3], e(V)[4,4], e(V)[4,262] \\ \n",
    "            e(V)[262,1], e(V)[262,2], e(V)[262,3], e(V)[262,4], e(V)[262,262]);\n",
    "matrix rownames V = log_num_authors log_num_pages both_genders prop_women _cons;\n",
    "matrix colnames V = log_num_authors log_num_pages both_genders prop_women _cons;\n",
    "#delimit cr"
   ]
  },
  {
   "cell_type": "code",
   "execution_count": 4,
   "metadata": {},
   "outputs": [
    {
     "name": "stdout",
     "output_type": "stream",
     "text": [
      "\n",
      "b[1,5]\n",
      "    log_num_au~s  log_num_pa~s  both_genders    prop_women         _cons\n",
      "y1    -.00397377     .01915903     .00059809    -.01889331     2.7023992\n",
      "\n",
      "symmetric V[5,5]\n",
      "              log_num_au~s  log_num_pa~s  both_genders    prop_women\n",
      "log_num_au~s     9.062e-06\n",
      "log_num_pa~s    -8.521e-06     .00002404\n",
      "both_genders     2.477e-06    -6.824e-06     .00001387\n",
      "  prop_women     .00001121    -.00001846     4.847e-06     .00003053\n",
      "       _cons     7.022e-06    -.00003725    -.00002375     5.047e-06\n",
      "\n",
      "                     _cons\n",
      "       _cons     .00025911\n"
     ]
    }
   ],
   "source": [
    "%stata matrix list b\n",
    "%stata matrix list V"
   ]
  },
  {
   "cell_type": "markdown",
   "metadata": {},
   "source": [
    "## t-Statistics \\& _p_-Values"
   ]
  },
  {
   "cell_type": "markdown",
   "metadata": {},
   "source": [
    "Printing the estimation results for these subset of coefficients of interest:"
   ]
  },
  {
   "cell_type": "code",
   "execution_count": 5,
   "metadata": {},
   "outputs": [
    {
     "name": "stdout",
     "output_type": "stream",
     "text": [
      "------------------------------------------------------------------------------\n",
      "             | Coefficient  Std. err.      z    P>|z|     [90% conf. interval]\n",
      "-------------+----------------------------------------------------------------\n",
      "log_num_au~s |  -.0039738   .0030103    -1.32   0.187    -.0089253    .0009778\n",
      "log_num_pa~s |    .019159   .0049032     3.91   0.000     .0110941     .027224\n",
      "both_genders |   .0005981   .0037246     0.16   0.872    -.0055284    .0067246\n",
      "  prop_women |  -.0188933   .0055253    -3.42   0.001    -.0279816    -.009805\n",
      "       _cons |   2.702399    .016097   167.88   0.000     2.675922    2.728876\n",
      "------------------------------------------------------------------------------\n"
     ]
    }
   ],
   "source": [
    "%stata ereturn post b V\n",
    "%stata ereturn display, l(90)"
   ]
  },
  {
   "cell_type": "markdown",
   "metadata": {},
   "source": [
    "Performing the test of the null hypothesis $\\mathbb{H}_0: \\beta_{\\text{prop\\_women}}=0$ against the alternative $\\mathbb{H}_1:\\beta_{\\text{prop\\_women}}\\neq 0$."
   ]
  },
  {
   "cell_type": "code",
   "execution_count": 6,
   "metadata": {},
   "outputs": [
    {
     "name": "stdout",
     "output_type": "stream",
     "text": [
      "\n",
      ". capture scalar drop T\n",
      "\n",
      ". scalar T = _b[prop_women]/_se[prop_women]\n",
      "\n",
      ". di _n \"T(prop_women) = \" T\n",
      "\n",
      "T(prop_women) = -3.4194288\n",
      "\n",
      ". di _n \"Prob > |T| = \" 2*(1-normal(abs(T)))\n",
      "\n",
      "Prob > |T| = .00062753\n",
      "\n",
      ". \n"
     ]
    }
   ],
   "source": [
    "%%stata\n",
    "capture scalar drop T\n",
    "scalar T = _b[prop_women]/_se[prop_women]\n",
    "di _n \"T(prop_women) = \" T\n",
    "di _n \"Prob > |T| = \" 2*(1-normal(abs(T)))"
   ]
  },
  {
   "cell_type": "markdown",
   "metadata": {},
   "source": [
    "## Confidence Interval"
   ]
  },
  {
   "cell_type": "markdown",
   "metadata": {},
   "source": [
    "Printing the estimation results for these subset of coefficients of interest:"
   ]
  },
  {
   "cell_type": "code",
   "execution_count": 7,
   "metadata": {},
   "outputs": [
    {
     "name": "stdout",
     "output_type": "stream",
     "text": [
      "\n"
     ]
    }
   ],
   "source": [
    "%%stata -qui\n",
    "#delimit ;\n",
    "reg FKG log_num_authors log_num_pages both_genders prop_women\n",
    "\t\t\t`journals' `jel_imp' y_2-y_20  c_2-c_215  jel_flag, vce(cluster cluster);\n",
    "matrix b = e(b)[1,\"log_num_authors\"],e(b)[1,\"log_num_pages\"],\n",
    "                e(b)[1,\"both_genders\"],e(b)[1,\"prop_women\"],e(b)[1,\"_cons\"];\n",
    "matrix V = (e(V)[1,1], e(V)[1,2], e(V)[1,3], e(V)[1,4], e(V)[1,262] \\ \n",
    "            e(V)[2,1], e(V)[2,2], e(V)[2,3], e(V)[2,4], e(V)[2,262] \\ \n",
    "            e(V)[3,1], e(V)[3,2], e(V)[3,3], e(V)[3,4], e(V)[3,262] \\ \n",
    "            e(V)[4,1], e(V)[4,2], e(V)[4,3], e(V)[4,4], e(V)[4,262] \\ \n",
    "            e(V)[262,1], e(V)[262,2], e(V)[262,3], e(V)[262,4], e(V)[262,262]);\n",
    "matrix rownames V = log_num_authors log_num_pages both_genders prop_women _cons;\n",
    "matrix colnames V = log_num_authors log_num_pages both_genders prop_women _cons;\n",
    "#delimit cr"
   ]
  },
  {
   "cell_type": "code",
   "execution_count": 8,
   "metadata": {},
   "outputs": [
    {
     "name": "stdout",
     "output_type": "stream",
     "text": [
      "-----------------------------------------------------------------------------\n",
      "> -\n",
      "             | Coefficient  Std. err.      z    P>|z|     [90% conf. interval]\n",
      "-------------+----------------------------------------------------------------\n",
      "log_num_au~s |  -.0039738   .0030103    -1.32   0.187    -.0089253    .0009778\n",
      "log_num_pa~s |    .019159   .0049032     3.91   0.000     .0110941     .027224\n",
      "both_genders |   .0005981   .0037246     0.16   0.872    -.0055284    .0067246\n",
      "  prop_women |  -.0188933   .0055253    -3.42   0.001    -.0279816    -.009805\n",
      "       _cons |   2.702399    .016097   167.88   0.000     2.675922    2.728876\n",
      "------------------------------------------------------------------------------\n"
     ]
    }
   ],
   "source": [
    "%stata ereturn post b V\n",
    "%stata ereturn display, l(90)"
   ]
  },
  {
   "cell_type": "markdown",
   "metadata": {},
   "source": [
    "Manually calculating the $90 \\%(=(1-\\alpha) \\times 100)$ confidence interval for $\\beta_{\\text{prop\\_women}}$ as $\\widehat{C}=\\left[\\widehat{\\beta}_{\\text{prop\\_women}}-c_\\alpha \\cdot s\\left(\\widehat{\\beta}_{\\text{prop\\_women}}\\right), \\widehat{\\beta}_{\\text{prop\\_women}}+c_\\alpha \\cdot s\\left(\\widehat{\\beta}_{\\text{prop\\_women}}\\right)\\right]$ where $c_\\alpha=F^{-1}(1-\\alpha / 2)$ and $F(\\cdot)$ represents the cumulative distribution function of a standard normal distribution function."
   ]
  },
  {
   "cell_type": "code",
   "execution_count": 9,
   "metadata": {},
   "outputs": [
    {
     "name": "stdout",
     "output_type": "stream",
     "text": [
      "\n",
      ". scalar c_min=_b[prop_women] + invnormal(0.05)*_se[prop_women]\n",
      "\n",
      ". scalar c_max=_b[prop_women] + invnormal(0.95)*_se[prop_women]\n",
      "\n",
      ". display _n \"90% C.I. for b[prop_women]: (\" c_min \", \" c_max \")\"\n",
      "\n",
      "90% C.I. for b[prop_women]: (-.0279816, -.00980503)\n",
      "\n",
      ". \n"
     ]
    }
   ],
   "source": [
    "%%stata\n",
    "scalar c_min=_b[prop_women] + invnormal(0.05)*_se[prop_women]\n",
    "scalar c_max=_b[prop_women] + invnormal(0.95)*_se[prop_women]\n",
    "display _n \"90% C.I. for b[prop_women]: (\" c_min \", \" c_max \")\""
   ]
  },
  {
   "cell_type": "code",
   "execution_count": null,
   "metadata": {},
   "outputs": [],
   "source": []
  }
 ],
 "metadata": {
  "kernelspec": {
   "display_name": "Python 3 (ipykernel)",
   "language": "python",
   "name": "python3"
  },
  "language_info": {
   "codemirror_mode": {
    "name": "ipython",
    "version": 3
   },
   "file_extension": ".py",
   "mimetype": "text/x-python",
   "name": "python",
   "nbconvert_exporter": "python",
   "pygments_lexer": "ipython3",
   "version": "3.11.0"
  }
 },
 "nbformat": 4,
 "nbformat_minor": 4
}

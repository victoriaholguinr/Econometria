{
 "cells": [
  {
   "cell_type": "code",
   "execution_count": 1,
   "metadata": {},
   "outputs": [],
   "source": [
    "%%capture\n",
    "import stata_setup, os\n",
    "if os.name == 'nt':\n",
    "    stata_setup.config('C:/Program Files/Stata17/','mp')\n",
    "else:\n",
    "    stata_setup.config('/usr/local/stata17','mp')"
   ]
  },
  {
   "cell_type": "code",
   "execution_count": 2,
   "metadata": {},
   "outputs": [
    {
     "name": "stdout",
     "output_type": "stream",
     "text": [
      "\n"
     ]
    }
   ],
   "source": [
    "%%stata -qui\n",
    "\n",
    "use \"../data/data\", clear\n",
    "rename log_flesch_kincaid_grade_level FKG\n",
    "quietly tabulate year, generate(y_)\n",
    "quietly tabulate cluster, generate(c_)\n",
    "\n",
    "local journals  ecm jpe qje res  //AER based category\n",
    "\n",
    "local jel_imp a_imp b_imp c_imp  e_imp f_imp g_imp h_imp i_imp j_imp k_imp /// \n",
    "\t\tl_imp m_imp n_imp o_imp p_imp q_imp r_imp y_imp z_imp // D JEL based case"
   ]
  },
  {
   "cell_type": "markdown",
   "metadata": {},
   "source": [
    "## Logistic Regression"
   ]
  },
  {
   "cell_type": "markdown",
   "metadata": {},
   "source": [
    "Let ```FKG_01``` be a binary variable indicating that an article's abstract readability is among the 10% highest in the Flesch Kincaid grade level scale."
   ]
  },
  {
   "cell_type": "code",
   "execution_count": 3,
   "metadata": {},
   "outputs": [
    {
     "name": "stdout",
     "output_type": "stream",
     "text": [
      "\n"
     ]
    }
   ],
   "source": [
    "%%stata -qui\n",
    "summarize flesch_kincaid_grade_level, detail\n",
    "local cutoff = r(p90)\n",
    "gen int FKG_01 = (flesch_kincaid_grade_level >= `cutoff')"
   ]
  },
  {
   "cell_type": "code",
   "execution_count": null,
   "metadata": {},
   "outputs": [],
   "source": []
  },
  {
   "cell_type": "code",
   "execution_count": 4,
   "metadata": {},
   "outputs": [
    {
     "name": "stdout",
     "output_type": "stream",
     "text": [
      "\n",
      "       FKG_01   log_n~rs   log_~ges   both_g~s   prop_w~n   jel_flag  \n",
      "  1.        0   .6931472   2.639057          0          0          1  \n",
      "  2.        1   .6931472    2.70805          0          0          1  \n",
      "  3.        0   1.098612   3.258096          0          0          1  \n",
      "  4.        1          0   3.091043          0          0          1  \n",
      "  5.        1          0   3.496508          0          0          1  \n",
      "  6.        0          0   2.772589          0          0          1  \n",
      "  7.        0   1.098612   2.890372          0          0          1  \n",
      "  8.        1   .6931472   3.295837          0          0          1  \n",
      "  9.        0   .6931472   2.833213          0          0          1  \n",
      " 10.        0   .6931472   3.091043          0          0          1  \n"
     ]
    }
   ],
   "source": [
    "%stata list FKG_01 log_num_authors log_num_pages both_genders prop_women jel_flag in 1/10, clean"
   ]
  },
  {
   "cell_type": "markdown",
   "metadata": {},
   "source": [
    "### Variable Preparation"
   ]
  },
  {
   "cell_type": "markdown",
   "metadata": {},
   "source": [
    "We now utilize ```Stata``` capabilities to automatically identify ```continuous``` as well as ```dummy``` variables in the data set."
   ]
  },
  {
   "cell_type": "code",
   "execution_count": 5,
   "metadata": {},
   "outputs": [],
   "source": [
    "#Cargamos los datos, identifica cuales variables son continuas o discretas o dummy . para eso se usa \"set\".\n",
    "#Luego de ejecutar me dice que hay 258 dummy"
   ]
  },
  {
   "cell_type": "code",
   "execution_count": 6,
   "metadata": {},
   "outputs": [
    {
     "name": "stdout",
     "output_type": "stream",
     "text": [
      "\n",
      ". #delimit ;\n",
      "delimiter now ;\n",
      ". vl set log_num_authors log_num_pages both_genders prop_women\n",
      ">        `journals' `jel_imp' y_2-y_20  c_2-c_215 jel_flag\n",
      ">        , dummy clear nonotes;\n",
      "\n",
      "-------------------------------------------------------------------------------\n",
      "                  |                      Macro's contents\n",
      "                  |------------------------------------------------------------\n",
      "Macro             |  # Vars   Description\n",
      "------------------+------------------------------------------------------------\n",
      "System            |\n",
      "  $vldummy        |     258   0/1 variables\n",
      "  $vlcategorical  |       0   categorical variables\n",
      "  $vlcontinuous   |       3   continuous variables\n",
      "  $vluncertain    |       0   perhaps continuous, perhaps categorical variables\n",
      "  $vlother        |       0   all missing or constant variables\n",
      "-------------------------------------------------------------------------------\n",
      "\n",
      ". #delimit cr\n",
      "delimiter now cr\n",
      ". \n"
     ]
    }
   ],
   "source": [
    "%%stata\n",
    "#delimit ;\n",
    "vl set log_num_authors log_num_pages both_genders prop_women\n",
    "       `journals' `jel_imp' y_2-y_20  c_2-c_215 jel_flag\n",
    "       , dummy clear nonotes;\n",
    "#delimit cr"
   ]
  },
  {
   "cell_type": "markdown",
   "metadata": {},
   "source": [
    "We manipulate these variable lists to create two lists of variables: (1) ```baseline``` which contains a mixture of continous as well as dummy variables that we would like to control for, and (2) ```mfe``` which is the list of all other indicator variables that are not of interest but we would like to control for."
   ]
  },
  {
   "cell_type": "code",
   "execution_count": 7,
   "metadata": {},
   "outputs": [],
   "source": [
    "#En el modelo X1, X2 y dummy variables, aquí se crea el grupo de 3 variables.\n",
    "# vl: variable list, una vez que se identificaron las variables, se crea la lista de variables, en el ejemplo yo sé que la mayoría \n",
    "## de las variables continuas son las que me interesan\n",
    "## Tengo una variable dummy que quiero usar como variable de control, prop_ women\n",
    "## Tengo dos dummys both_genders y jel_flag, que se agruparian con las dummies de efectos fijos en el grupo tres, las saco para ponerlas en el grupo 2.\n",
    "# La interpretación de los betas cambia si la variable que multiplica es continua o discreta.\n",
    "## Usar stata para calcular un efecto marginal, se debe especificar la naturaleza del regresor, ejemplo si el regresor es discreto = ,1, se debe especificar porque STATA pernsará que es continuo.\n",
    "# el \"i.\" a los 257 variables, indica que cada una es un factor (0, 1 ) \n",
    "# para creao mfe, se sustituye por i.fe.\n",
    "# a las variables continuas le extrae Prop_women y crea las variables control, a esas variables control se le suma las dummy, \"vl substitute baseline = i.controls_dummy controls\" se juntan con este comando."
   ]
  },
  {
   "cell_type": "code",
   "execution_count": 8,
   "metadata": {},
   "outputs": [
    {
     "name": "stdout",
     "output_type": "stream",
     "text": [
      "\n"
     ]
    }
   ],
   "source": [
    "%%stata -qui\n",
    "#delimit ;\n",
    "vl create fe = vldummy - (both_genders jel_flag);\n",
    "vl substitute mfe = i.fe;\n",
    "vl create controls = vlcontinuous - (prop_women);\n",
    "vl create controls_dummy = (both_genders jel_flag);\n",
    "vl substitute baseline = i.controls_dummy controls; \n",
    "vl rebuild;\n",
    "#delimit cr"
   ]
  },
  {
   "cell_type": "code",
   "execution_count": 9,
   "metadata": {},
   "outputs": [
    {
     "name": "stdout",
     "output_type": "stream",
     "text": [
      "\n",
      ". display \"$baseline\"\n",
      "i.both_genders i.jel_flag log_num_pages log_num_authors\n",
      "\n",
      ". display \"$mfe\"\n",
      "i.ecm i.jpe i.qje i.res i.a_imp i.b_imp i.c_imp i.e_imp i.f_imp i.g_imp i.h_imp\n",
      ">  i.i_imp i.j_imp i.k_imp i.l_imp i.m_imp i.n_imp i.o_imp i.p_imp i.q_imp i.r_\n",
      "> imp i.y_imp i.z_imp i.y_2 i.y_3 i.y_4 i.y_5 i.y_6 i.y_7 i.y_8 i.y_9 i.y_10 i.\n",
      "> y_11 i.y_12 i.y_13 i.y_14 i.y_15 i.y_16 i.y_17 i.y_18 i.y_19 i.y_20 i.c_2 i.c\n",
      "> _3 i.c_4 i.c_5 i.c_6 i.c_7 i.c_8 i.c_9 i.c_10 i.c_11 i.c_12 i.c_13 i.c_14 i.c\n",
      "> _15 i.c_16 i.c_17 i.c_18 i.c_19 i.c_20 i.c_21 i.c_22 i.c_23 i.c_24 i.c_25 i.c\n",
      "> _26 i.c_27 i.c_28 i.c_29 i.c_30 i.c_31 i.c_32 i.c_33 i.c_34 i.c_35 i.c_36 i.c\n",
      "> _37 i.c_38 i.c_39 i.c_40 i.c_41 i.c_42 i.c_43 i.c_44 i.c_45 i.c_46 i.c_47 i.c\n",
      "> _48 i.c_49 i.c_50 i.c_51 i.c_52 i.c_53 i.c_54 i.c_55 i.c_56 i.c_57 i.c_58 i.c\n",
      "> _59 i.c_60 i.c_61 i.c_62 i.c_63 i.c_64 i.c_65 i.c_66 i.c_67 i.c_68 i.c_69 i.c\n",
      "> _70 i.c_71 i.c_72 i.c_73 i.c_74 i.c_75 i.c_76 i.c_77 i.c_78 i.c_79 i.c_80 i.c\n",
      "> _81 i.c_82 i.c_83 i.c_84 i.c_85 i.c_86 i.c_87 i.c_88 i.c_89 i.c_90 i.c_91 i.c\n",
      "> _92 i.c_93 i.c_94 i.c_95 i.c_96 i.c_97 i.c_98 i.c_99 i.c_100 i.c_101 i.c_102 \n",
      "> i.c_103 i.c_104 i.c_105 i.c_106 i.c_107 i.c_108 i.c_109 i.c_110 i.c_111 i.c_1\n",
      "> 12 i.c_113 i.c_114 i.c_115 i.c_116 i.c_117 i.c_118 i.c_119 i.c_120 i.c_121 i.\n",
      "> c_122 i.c_123 i.c_124 i.c_125 i.c_126 i.c_127 i.c_128 i.c_129 i.c_130 i.c_131\n",
      ">  i.c_132 i.c_133 i.c_134 i.c_135 i.c_136 i.c_137 i.c_138 i.c_139 i.c_140 i.c_\n",
      "> 141 i.c_142 i.c_143 i.c_144 i.c_145 i.c_146 i.c_147 i.c_148 i.c_149 i.c_150 i\n",
      "> .c_151 i.c_152 i.c_153 i.c_154 i.c_155 i.c_156 i.c_157 i.c_158 i.c_159 i.c_16\n",
      "> 0 i.c_161 i.c_162 i.c_163 i.c_164 i.c_165 i.c_166 i.c_167 i.c_168 i.c_169 i.c\n",
      "> _170 i.c_171 i.c_172 i.c_173 i.c_174 i.c_175 i.c_176 i.c_177 i.c_178 i.c_179 \n",
      "> i.c_180 i.c_181 i.c_182 i.c_183 i.c_184 i.c_185 i.c_186 i.c_187 i.c_188 i.c_1\n",
      "> 89 i.c_190 i.c_191 i.c_192 i.c_193 i.c_194 i.c_195 i.c_196 i.c_197 i.c_198 i.\n",
      "> c_199 i.c_200 i.c_201 i.c_202 i.c_203 i.c_204 i.c_205 i.c_206 i.c_207 i.c_208\n",
      ">  i.c_209 i.c_210 i.c_211 i.c_212 i.c_213 i.c_214 i.c_215\n",
      "\n",
      ". \n"
     ]
    }
   ],
   "source": [
    "%%stata\n",
    "display \"$baseline\"\n",
    "display \"$mfe\""
   ]
  },
  {
   "cell_type": "code",
   "execution_count": 10,
   "metadata": {},
   "outputs": [],
   "source": [
    "# El objetivo es construir este tipo de comandos, $mfe efecto fijo, no nos interesa, \"logit\" es el comando que nos permite estimar el parametro beta en regresión logistica.\n",
    "# vce(cluster cluster) varianza covarianza, para logit, ahora los errores estandar están clusterizados a nivel de sus grados.\n",
    "# La clusterización afecta la forma qen la que se maximiza, el estimador no convergería al beta verdadero, aún cuando los datos tienen una estimación normal.\n",
    "# se dice explicitamente que el modelo es miss especificado. , converge a un pseudo parámetro."
   ]
  },
  {
   "cell_type": "code",
   "execution_count": 11,
   "metadata": {},
   "outputs": [
    {
     "name": "stdout",
     "output_type": "stream",
     "text": [
      "\n"
     ]
    }
   ],
   "source": [
    "%%stata -qui\n",
    "#delimit ;\n",
    "logit FKG_01 prop_women $baseline $mfe, vce(cluster cluster) nolog;\n",
    "#delimit cr"
   ]
  },
  {
   "cell_type": "code",
   "execution_count": null,
   "metadata": {},
   "outputs": [],
   "source": [
    "# en keep va la lista de variables que me interezan. 1.booth_genders importante, star : si el valor p es menor que 0.05 dos estrellitas y así.\n",
    "# dos estrellitas es el estandar.\n",
    "# no se puede interpretar el resultado como efectos causales. \n",
    "# el signo del Beta informa sobre el cambio de la probabilidad. (el numerito no se considera)"
   ]
  },
  {
   "cell_type": "code",
   "execution_count": 12,
   "metadata": {},
   "outputs": [
    {
     "name": "stdout",
     "output_type": "stream",
     "text": [
      "\n",
      "----------------------------------------\n",
      "                 Variable |   Active    \n",
      "--------------------------+-------------\n",
      "          log_num_authors | -0.2194***  \n",
      "            log_num_pages |  0.4182***  \n",
      "           1.both_genders |  0.2597*    \n",
      "               prop_women | -0.5166**   \n",
      "----------------------------------------\n",
      "Legend: * p<0.05; ** p<0.01; *** p<0.001\n"
     ]
    }
   ],
   "source": [
    "%%stata\n",
    "estimates table, keep(log_num_authors log_num_pages 1.both_genders prop_women) b(%5.4f) star varwidth(25)"
   ]
  },
  {
   "cell_type": "code",
   "execution_count": null,
   "metadata": {},
   "outputs": [],
   "source": [
    "#calcular si la clasificación es ccorrecta."
   ]
  },
  {
   "cell_type": "code",
   "execution_count": 13,
   "metadata": {},
   "outputs": [
    {
     "name": "stdout",
     "output_type": "stream",
     "text": [
      "\n",
      "Logistic model for FKG_01\n",
      "\n",
      "              -------- True --------\n",
      "Classified |         D            ~D  |      Total\n",
      "-----------+--------------------------+-----------\n",
      "     +     |        25            16  |         41\n",
      "     -     |       463          4045  |       4508\n",
      "-----------+--------------------------+-----------\n",
      "   Total   |       488          4061  |       4549\n",
      "\n",
      "Classified + if predicted Pr(D) >= .5\n",
      "True D defined as FKG_01 != 0\n",
      "--------------------------------------------------\n",
      "Sensitivity                     Pr( +| D)    5.12%\n",
      "Specificity                     Pr( -|~D)   99.61%\n",
      "Positive predictive value       Pr( D| +)   60.98%\n",
      "Negative predictive value       Pr(~D| -)   89.73%\n",
      "--------------------------------------------------\n",
      "False + rate for true ~D        Pr( +|~D)    0.39%\n",
      "False - rate for true D         Pr( -| D)   94.88%\n",
      "False + rate for classified +   Pr(~D| +)   39.02%\n",
      "False - rate for classified -   Pr( D| -)   10.27%\n",
      "--------------------------------------------------\n",
      "Correctly classified                        89.47%\n",
      "--------------------------------------------------\n"
     ]
    }
   ],
   "source": [
    "%stata estat class"
   ]
  },
  {
   "cell_type": "markdown",
   "metadata": {},
   "source": [
    "### _Average_ Marginal Effects"
   ]
  },
  {
   "cell_type": "code",
   "execution_count": 14,
   "metadata": {},
   "outputs": [
    {
     "name": "stdout",
     "output_type": "stream",
     "text": [
      "\n",
      "Average marginal effects                                 Number of obs = 4,549\n",
      "Model VCE: Robust\n",
      "\n",
      "Expression: Pr(FKG_01), predict()\n",
      "dy/dx wrt:  prop_women 1.both_genders log_num_pages log_num_authors\n",
      "\n",
      "------------------------------------------------------------------------------\n",
      "             |            Delta-method\n",
      "             |      dy/dx   std. err.      z    P>|z|     [95% conf. interval]\n",
      "-------------+----------------------------------------------------------------\n",
      "  prop_women |  -.0467823   .0180233    -2.60   0.009    -.0821074   -.0114573\n",
      "1.both_gen~s |   .0249268   .0110292     2.26   0.024     .0033099    .0465437\n",
      "log_num_pa~s |   .0378702   .0078389     4.83   0.000     .0225062    .0532342\n",
      "log_num_au~s |  -.0198674   .0045374    -4.38   0.000    -.0287605   -.0109742\n",
      "------------------------------------------------------------------------------\n",
      "Note: dy/dx for factor levels is the discrete change from the base level.\n"
     ]
    }
   ],
   "source": [
    "%%stata\n",
    "margins, dydx(log_num_authors log_num_pages both_genders prop_women)"
   ]
  },
  {
   "cell_type": "markdown",
   "metadata": {},
   "source": [
    "### Marginal Effects"
   ]
  },
  {
   "cell_type": "markdown",
   "metadata": {},
   "source": [
    "Recall that the base category is an article published in the AER, in the field of 'Microeconomis', in 2000, that belongs to the first cluster. For this type of articles, we are further interested in calculating the marginal effect of the ```prop_women``` among 4 male (```both_genders```=0) co-authors (```log_num_authors```=0.60205999132) at 0, 0.25, 0.5, 0.75, and 1 accross the whole spectrum of articles' length (number of pages)."
   ]
  },
  {
   "cell_type": "code",
   "execution_count": 15,
   "metadata": {},
   "outputs": [
    {
     "name": "stdout",
     "output_type": "stream",
     "text": [
      "\n"
     ]
    }
   ],
   "source": [
    "%%stata -qui\n",
    "#delimit ;\n",
    "cd \"../data/\";\n",
    "margins, dydx(prop_women) at(prop_women = (0(0.25)1) log_num_pages=(1(0.5)4.5)\n",
    "                             log_num_authors=0.60205999132 (base) _factor)\n",
    "                             saving(predictions, replace);\n",
    "#delimit cr"
   ]
  },
  {
   "cell_type": "code",
   "execution_count": 16,
   "metadata": {},
   "outputs": [
    {
     "name": "stdout",
     "output_type": "stream",
     "text": [
      "\n"
     ]
    }
   ],
   "source": [
    "%%stata -qui\n",
    "use predictions, clear\n",
    "rename _at1 prop_women \n",
    "rename _at4 log_num_pages\n",
    "rename _margin delta_hat \n",
    "save predictions, replace"
   ]
  },
  {
   "cell_type": "code",
   "execution_count": 27,
   "metadata": {},
   "outputs": [],
   "source": [
    "# Import the necessary Python packages\n",
    "import numpy as np\n",
    "import pandas as pd\n",
    "import matplotlib\n",
    "matplotlib.use('WebAgg')\n",
    "import matplotlib.pyplot as plt\n",
    "\n",
    "\n",
    "# Read (import) the Stata dataset “predictions.dta”\n",
    "# into a pandas data frame named “data”\n",
    "data = pd.read_stata(\"predictions.dta\")\n",
    "\n",
    "\n",
    "# Define a 3-D graph named “ax”\n",
    "ax = plt.axes(projection='3d')\n",
    "\n",
    "# Specify the view angle of the graph\n",
    "ax.view_init(elev=30, azim=200)\n",
    "\n",
    "# Render the graph\n",
    "ax.plot_trisurf(data['prop_women'], data['log_num_pages'], data['delta_hat'],cmap=plt.cm.Spectral_r)\n",
    "\n",
    "# Specify the axis ticks\n",
    "ax.set_xticks(np.arange(0, 1, step=0.25))\n",
    "ax.set_yticks(np.arange(1, 4.5, step=0.5))\n",
    "ax.set_zticks(np.arange( -.1, 0, step=0.02))\n",
    "\n",
    "\n",
    "# Specify the title and axis titles\n",
    "ax.set_title(\"\")\n",
    "ax.set_xlabel(\"Proportion of Women\")\n",
    "ax.set_ylabel(\"log(Number of Pages)\")\n",
    "ax.zaxis.set_rotate_label(False)\n",
    "\n",
    "# Save the graph\n",
    "plt.savefig(\"../figures/Margins3d.png\")"
   ]
  },
  {
   "cell_type": "code",
   "execution_count": 29,
   "metadata": {},
   "outputs": [
    {
     "data": {
      "image/png": "[encoded data removed]",
      "text/plain": [
       "<IPython.core.display.Image object>"
      ]
     },
     "execution_count": 29,
     "metadata": {},
     "output_type": "execute_result"
    }
   ],
   "source": [
    "# Showing the graph\n",
    "from IPython.display import Image\n",
    "Image(\"../figures/Margins3d.png\")"
   ]
  },
  {
   "cell_type": "code",
   "execution_count": null,
   "metadata": {},
   "outputs": [],
   "source": []
  },
  {
   "cell_type": "code",
   "execution_count": 37,
   "metadata": {},
   "outputs": [
    {
     "data": {
      "application/vnd.plotly.v1+json": {
       "config": {
        "plotlyServerURL": "https://plot.ly"
       },
       "data": [
        {
         "facecolor": [
          "rgb(248, 142, 84)",
          "rgb(252, 181, 105)",
          "rgb(246, 245, 166)",
          "rgb(243, 247, 168)",
          "rgb(210, 61, 77)",
          "rgb(216, 67, 78)",
          "rgb(223, 80, 77)",
          "rgb(237, 106, 74)",
          "rgb(253, 206, 127)",
          "rgb(253, 199, 120)",
          "rgb(250, 240, 163)",
          "rgb(254, 220, 143)",
          "rgb(165, 219, 162)",
          "rgb(178, 224, 161)",
          "rgb(136, 207, 164)",
          "rgb(85, 170, 176)",
          "rgb(251, 170, 99)",
          "rgb(247, 132, 79)",
          "rgb(239, 109, 74)",
          "rgb(243, 116, 74)",
          "rgb(253, 212, 133)",
          "rgb(254, 218, 141)",
          "rgb(253, 196, 117)",
          "rgb(250, 159, 93)",
          "rgb(173, 19, 69)",
          "rgb(196, 45, 74)",
          "rgb(158, 1, 66)",
          "rgb(163, 7, 67)",
          "rgb(87, 91, 167)",
          "rgb(94, 79, 162)",
          "rgb(71, 117, 177)",
          "rgb(78, 164, 179)",
          "rgb(231, 94, 76)",
          "rgb(217, 69, 78)",
          "rgb(205, 55, 76)",
          "rgb(200, 48, 75)",
          "rgb(248, 140, 83)",
          "rgb(247, 131, 78)",
          "rgb(241, 113, 74)",
          "rgb(227, 87, 76)",
          "rgb(94, 178, 173)",
          "rgb(82, 168, 177)",
          "rgb(119, 200, 165)",
          "rgb(176, 223, 161)",
          "rgb(207, 236, 163)",
          "rgb(160, 217, 162)",
          "rgb(234, 246, 168)",
          "rgb(226, 243, 166)",
          "rgb(253, 238, 162)",
          "rgb(244, 246, 167)",
          "rgb(200, 233, 162)",
          "rgb(209, 236, 163)",
          "rgb(253, 208, 129)",
          "rgb(254, 237, 161)",
          "rgb(241, 249, 169)",
          "rgb(243, 247, 168)"
         ],
         "i": [
          36,
          27,
          3,
          11,
          9,
          9,
          8,
          9,
          20,
          27,
          11,
          20,
          31,
          38,
          31,
          22,
          1,
          9,
          10,
          18,
          10,
          10,
          11,
          10,
          24,
          16,
          25,
          33,
          6,
          14,
          15,
          14,
          26,
          25,
          34,
          26,
          26,
          18,
          27,
          26,
          5,
          13,
          14,
          13,
          12,
          13,
          20,
          21,
          29,
          29,
          22,
          21,
          36,
          37,
          37,
          29
         ],
         "j": [
          27,
          36,
          11,
          12,
          8,
          16,
          9,
          1,
          27,
          20,
          20,
          11,
          38,
          31,
          22,
          31,
          10,
          10,
          9,
          10,
          3,
          11,
          10,
          18,
          25,
          25,
          24,
          25,
          14,
          15,
          14,
          22,
          18,
          26,
          26,
          25,
          27,
          26,
          26,
          34,
          13,
          14,
          13,
          21,
          13,
          5,
          13,
          13,
          20,
          21,
          29,
          29,
          37,
          29,
          38,
          37
         ],
         "k": [
          35,
          28,
          4,
          4,
          16,
          17,
          0,
          0,
          28,
          19,
          12,
          19,
          39,
          30,
          30,
          23,
          2,
          1,
          17,
          17,
          2,
          3,
          19,
          19,
          16,
          17,
          32,
          32,
          7,
          7,
          23,
          23,
          17,
          17,
          33,
          33,
          19,
          19,
          35,
          35,
          6,
          6,
          22,
          22,
          4,
          4,
          12,
          20,
          28,
          20,
          30,
          22,
          28,
          28,
          30,
          30
         ],
         "name": "",
         "type": "mesh3d",
         "x": [
          0,
          0,
          0,
          0,
          0,
          0,
          0,
          0,
          0.25,
          0.25,
          0.25,
          0.25,
          0.25,
          0.25,
          0.25,
          0.25,
          0.5,
          0.5,
          0.5,
          0.5,
          0.5,
          0.5,
          0.5,
          0.5,
          0.75,
          0.75,
          0.75,
          0.75,
          0.75,
          0.75,
          0.75,
          0.75,
          1,
          1,
          1,
          1,
          1,
          1,
          1,
          1
         ],
         "y": [
          1,
          1.5,
          2,
          2.5,
          3,
          3.5,
          4,
          4.5,
          1,
          1.5,
          2,
          2.5,
          3,
          3.5,
          4,
          4.5,
          1,
          1.5,
          2,
          2.5,
          3,
          3.5,
          4,
          4.5,
          1,
          1.5,
          2,
          2.5,
          3,
          3.5,
          4,
          4.5,
          1,
          1.5,
          2,
          2.5,
          3,
          3.5,
          4,
          4.5
         ],
         "z": [
          -0.034189049154520035,
          -0.04077734053134918,
          -0.04830004647374153,
          -0.056744012981653214,
          -0.06602618098258972,
          -0.07597219944000244,
          -0.08629909157752991,
          -0.09660821408033371,
          -0.03057239204645157,
          -0.036599062383174896,
          -0.043542616069316864,
          -0.051422424614429474,
          -0.06020118296146393,
          -0.06976335495710373,
          -0.07989469915628433,
          -0.09026804566383362,
          -0.027284353971481323,
          -0.03277130797505379,
          -0.03914348781108856,
          -0.0464453361928463,
          -0.054677024483680725,
          -0.06377390772104263,
          -0.07358492165803909,
          -0.08385378122329712,
          -0.02430703490972519,
          -0.029281800612807274,
          -0.035099901258945465,
          -0.04182426631450653,
          -0.049484651535749435,
          -0.058058999478816986,
          -0.06745213270187378,
          -0.07747463881969452,
          -0.0216206107288599,
          -0.026114385575056076,
          -0.03140271082520485,
          -0.037561312317848206,
          -0.044642407447099686,
          -0.0526583306491375,
          -0.06156165152788162,
          -0.07122351974248886
         ]
        },
        {
         "line": {
          "color": "rgb(50, 50, 50)",
          "width": 1.5
         },
         "mode": "lines",
         "showlegend": false,
         "type": "scatter3d",
         "x": [
          1,
          0.75,
          1,
          1,
          null,
          0.75,
          1,
          0.75,
          0.75,
          null,
          0,
          0.25,
          0,
          0,
          null,
          0.25,
          0.25,
          0,
          0.25,
          null,
          0.25,
          0.25,
          0.5,
          0.25,
          null,
          0.25,
          0.5,
          0.5,
          0.25,
          null,
          0.25,
          0.25,
          0,
          0.25,
          null,
          0.25,
          0,
          0,
          0.25,
          null,
          0.5,
          0.75,
          0.75,
          0.5,
          null,
          0.75,
          0.5,
          0.5,
          0.75,
          null,
          0.25,
          0.5,
          0.25,
          0.25,
          null,
          0.5,
          0.25,
          0.5,
          0.5,
          null,
          0.75,
          1,
          1,
          0.75,
          null,
          1,
          0.75,
          0.75,
          1,
          null,
          0.75,
          0.5,
          0.75,
          0.75,
          null,
          0.5,
          0.75,
          0.5,
          0.5,
          null,
          0,
          0.25,
          0,
          0,
          null,
          0.25,
          0.25,
          0,
          0.25,
          null,
          0.25,
          0.25,
          0.5,
          0.25,
          null,
          0.5,
          0.25,
          0.5,
          0.5,
          null,
          0.25,
          0,
          0,
          0.25,
          null,
          0.25,
          0.25,
          0,
          0.25,
          null,
          0.25,
          0.25,
          0.5,
          0.25,
          null,
          0.25,
          0.5,
          0.5,
          0.25,
          null,
          0.75,
          0.75,
          0.5,
          0.75,
          null,
          0.5,
          0.75,
          0.5,
          0.5,
          null,
          0.75,
          0.75,
          1,
          0.75,
          null,
          1,
          0.75,
          1,
          1,
          null,
          0,
          0.25,
          0,
          0,
          null,
          0.25,
          0.25,
          0,
          0.25,
          null,
          0.25,
          0.25,
          0.5,
          0.25,
          null,
          0.25,
          0.5,
          0.5,
          0.25,
          null,
          0.75,
          0.5,
          0.5,
          0.75,
          null,
          0.75,
          0.75,
          0.5,
          0.75,
          null,
          1,
          0.75,
          1,
          1,
          null,
          0.75,
          0.75,
          1,
          0.75,
          null,
          0.75,
          0.75,
          0.5,
          0.75,
          null,
          0.5,
          0.75,
          0.5,
          0.5,
          null,
          0.75,
          0.75,
          1,
          0.75,
          null,
          0.75,
          1,
          1,
          0.75,
          null,
          0,
          0.25,
          0,
          0,
          null,
          0.25,
          0.25,
          0,
          0.25,
          null,
          0.25,
          0.25,
          0.5,
          0.25,
          null,
          0.25,
          0.5,
          0.5,
          0.25,
          null,
          0.25,
          0.25,
          0,
          0.25,
          null,
          0.25,
          0,
          0,
          0.25,
          null,
          0.5,
          0.25,
          0.25,
          0.5,
          null,
          0.5,
          0.25,
          0.5,
          0.5,
          null,
          0.75,
          0.5,
          0.75,
          0.75,
          null,
          0.75,
          0.5,
          0.5,
          0.75,
          null,
          0.5,
          0.75,
          0.75,
          0.5,
          null,
          0.5,
          0.75,
          0.5,
          0.5,
          null,
          1,
          1,
          0.75,
          1,
          null,
          1,
          0.75,
          0.75,
          1,
          null,
          1,
          1,
          0.75,
          1,
          null,
          0.75,
          1,
          0.75,
          0.75,
          null
         ],
         "y": [
          3,
          2.5,
          2.5,
          3,
          null,
          2.5,
          3,
          3,
          2.5,
          null,
          2.5,
          2.5,
          3,
          2.5,
          null,
          2.5,
          3,
          3,
          2.5,
          null,
          1.5,
          1,
          1,
          1.5,
          null,
          1.5,
          1,
          1.5,
          1.5,
          null,
          1,
          1.5,
          1,
          1,
          null,
          1.5,
          1.5,
          1,
          1.5,
          null,
          3,
          2.5,
          3,
          3,
          null,
          2.5,
          3,
          2.5,
          2.5,
          null,
          2.5,
          3,
          3,
          2.5,
          null,
          3,
          2.5,
          2.5,
          3,
          null,
          4.5,
          4,
          4.5,
          4.5,
          null,
          4,
          4.5,
          4,
          4,
          null,
          4.5,
          4,
          4,
          4.5,
          null,
          4,
          4.5,
          4.5,
          4,
          null,
          1.5,
          2,
          2,
          1.5,
          null,
          1.5,
          2,
          1.5,
          1.5,
          null,
          2,
          1.5,
          1.5,
          2,
          null,
          2,
          2,
          1.5,
          2,
          null,
          2,
          2.5,
          2,
          2,
          null,
          2,
          2.5,
          2.5,
          2,
          null,
          2.5,
          2,
          2.5,
          2.5,
          null,
          2,
          2,
          2.5,
          2,
          null,
          1,
          1.5,
          1,
          1,
          null,
          1,
          1.5,
          1.5,
          1,
          null,
          1.5,
          1,
          1,
          1.5,
          null,
          1.5,
          1.5,
          1,
          1.5,
          null,
          4,
          4,
          4.5,
          4,
          null,
          4,
          4.5,
          4.5,
          4,
          null,
          4.5,
          4,
          4.5,
          4.5,
          null,
          4,
          4,
          4.5,
          4,
          null,
          2,
          2,
          1.5,
          2,
          null,
          1.5,
          2,
          1.5,
          1.5,
          null,
          2,
          2,
          1.5,
          2,
          null,
          2,
          1.5,
          1.5,
          2,
          null,
          2,
          2.5,
          2.5,
          2,
          null,
          2,
          2,
          2.5,
          2,
          null,
          2.5,
          2,
          2.5,
          2.5,
          null,
          2,
          2,
          2.5,
          2,
          null,
          3.5,
          3.5,
          4,
          3.5,
          null,
          3.5,
          4,
          4,
          3.5,
          null,
          4,
          3.5,
          4,
          4,
          null,
          3.5,
          3.5,
          4,
          3.5,
          null,
          3,
          3.5,
          3,
          3,
          null,
          3.5,
          3.5,
          3,
          3.5,
          null,
          3,
          3.5,
          3,
          3,
          null,
          3.5,
          3.5,
          3,
          3.5,
          null,
          3.5,
          3,
          3,
          3.5,
          null,
          3.5,
          3.5,
          3,
          3.5,
          null,
          4,
          3.5,
          4,
          4,
          null,
          3.5,
          3.5,
          4,
          3.5,
          null,
          3,
          3.5,
          3,
          3,
          null,
          3.5,
          3.5,
          3,
          3.5,
          null,
          3.5,
          4,
          4,
          3.5,
          null,
          3.5,
          3.5,
          4,
          3.5,
          null
         ],
         "z": [
          -0.044642407447099686,
          -0.04182426631450653,
          -0.037561312317848206,
          -0.044642407447099686,
          null,
          -0.04182426631450653,
          -0.044642407447099686,
          -0.049484651535749435,
          -0.04182426631450653,
          null,
          -0.056744012981653214,
          -0.051422424614429474,
          -0.06602618098258972,
          -0.056744012981653214,
          null,
          -0.051422424614429474,
          -0.06020118296146393,
          -0.06602618098258972,
          -0.051422424614429474,
          null,
          -0.036599062383174896,
          -0.03057239204645157,
          -0.027284353971481323,
          -0.036599062383174896,
          null,
          -0.036599062383174896,
          -0.027284353971481323,
          -0.03277130797505379,
          -0.036599062383174896,
          null,
          -0.03057239204645157,
          -0.036599062383174896,
          -0.034189049154520035,
          -0.03057239204645157,
          null,
          -0.036599062383174896,
          -0.04077734053134918,
          -0.034189049154520035,
          -0.036599062383174896,
          null,
          -0.054677024483680725,
          -0.04182426631450653,
          -0.049484651535749435,
          -0.054677024483680725,
          null,
          -0.04182426631450653,
          -0.054677024483680725,
          -0.0464453361928463,
          -0.04182426631450653,
          null,
          -0.051422424614429474,
          -0.054677024483680725,
          -0.06020118296146393,
          -0.051422424614429474,
          null,
          -0.054677024483680725,
          -0.051422424614429474,
          -0.0464453361928463,
          -0.054677024483680725,
          null,
          -0.07747463881969452,
          -0.06156165152788162,
          -0.07122351974248886,
          -0.07747463881969452,
          null,
          -0.06156165152788162,
          -0.07747463881969452,
          -0.06745213270187378,
          -0.06156165152788162,
          null,
          -0.07747463881969452,
          -0.07358492165803909,
          -0.06745213270187378,
          -0.07747463881969452,
          null,
          -0.07358492165803909,
          -0.07747463881969452,
          -0.08385378122329712,
          -0.07358492165803909,
          null,
          -0.04077734053134918,
          -0.043542616069316864,
          -0.04830004647374153,
          -0.04077734053134918,
          null,
          -0.036599062383174896,
          -0.043542616069316864,
          -0.04077734053134918,
          -0.036599062383174896,
          null,
          -0.043542616069316864,
          -0.036599062383174896,
          -0.03277130797505379,
          -0.043542616069316864,
          null,
          -0.03914348781108856,
          -0.043542616069316864,
          -0.03277130797505379,
          -0.03914348781108856,
          null,
          -0.043542616069316864,
          -0.056744012981653214,
          -0.04830004647374153,
          -0.043542616069316864,
          null,
          -0.043542616069316864,
          -0.051422424614429474,
          -0.056744012981653214,
          -0.043542616069316864,
          null,
          -0.051422424614429474,
          -0.043542616069316864,
          -0.0464453361928463,
          -0.051422424614429474,
          null,
          -0.043542616069316864,
          -0.03914348781108856,
          -0.0464453361928463,
          -0.043542616069316864,
          null,
          -0.02430703490972519,
          -0.029281800612807274,
          -0.027284353971481323,
          -0.02430703490972519,
          null,
          -0.027284353971481323,
          -0.029281800612807274,
          -0.03277130797505379,
          -0.027284353971481323,
          null,
          -0.029281800612807274,
          -0.02430703490972519,
          -0.0216206107288599,
          -0.029281800612807274,
          null,
          -0.026114385575056076,
          -0.029281800612807274,
          -0.0216206107288599,
          -0.026114385575056076,
          null,
          -0.08629909157752991,
          -0.07989469915628433,
          -0.09660821408033371,
          -0.08629909157752991,
          null,
          -0.07989469915628433,
          -0.09026804566383362,
          -0.09660821408033371,
          -0.07989469915628433,
          null,
          -0.09026804566383362,
          -0.07989469915628433,
          -0.08385378122329712,
          -0.09026804566383362,
          null,
          -0.07989469915628433,
          -0.07358492165803909,
          -0.08385378122329712,
          -0.07989469915628433,
          null,
          -0.035099901258945465,
          -0.03914348781108856,
          -0.03277130797505379,
          -0.035099901258945465,
          null,
          -0.029281800612807274,
          -0.035099901258945465,
          -0.03277130797505379,
          -0.029281800612807274,
          null,
          -0.03140271082520485,
          -0.035099901258945465,
          -0.026114385575056076,
          -0.03140271082520485,
          null,
          -0.035099901258945465,
          -0.029281800612807274,
          -0.026114385575056076,
          -0.035099901258945465,
          null,
          -0.035099901258945465,
          -0.04182426631450653,
          -0.0464453361928463,
          -0.035099901258945465,
          null,
          -0.03914348781108856,
          -0.035099901258945465,
          -0.0464453361928463,
          -0.03914348781108856,
          null,
          -0.04182426631450653,
          -0.035099901258945465,
          -0.037561312317848206,
          -0.04182426631450653,
          null,
          -0.035099901258945465,
          -0.03140271082520485,
          -0.037561312317848206,
          -0.035099901258945465,
          null,
          -0.07597219944000244,
          -0.06976335495710373,
          -0.08629909157752991,
          -0.07597219944000244,
          null,
          -0.06976335495710373,
          -0.07989469915628433,
          -0.08629909157752991,
          -0.06976335495710373,
          null,
          -0.07989469915628433,
          -0.06976335495710373,
          -0.07358492165803909,
          -0.07989469915628433,
          null,
          -0.06976335495710373,
          -0.06377390772104263,
          -0.07358492165803909,
          -0.06976335495710373,
          null,
          -0.06020118296146393,
          -0.06976335495710373,
          -0.06602618098258972,
          -0.06020118296146393,
          null,
          -0.06976335495710373,
          -0.07597219944000244,
          -0.06602618098258972,
          -0.06976335495710373,
          null,
          -0.054677024483680725,
          -0.06976335495710373,
          -0.06020118296146393,
          -0.054677024483680725,
          null,
          -0.06377390772104263,
          -0.06976335495710373,
          -0.054677024483680725,
          -0.06377390772104263,
          null,
          -0.058058999478816986,
          -0.054677024483680725,
          -0.049484651535749435,
          -0.058058999478816986,
          null,
          -0.058058999478816986,
          -0.06377390772104263,
          -0.054677024483680725,
          -0.058058999478816986,
          null,
          -0.07358492165803909,
          -0.058058999478816986,
          -0.06745213270187378,
          -0.07358492165803909,
          null,
          -0.06377390772104263,
          -0.058058999478816986,
          -0.07358492165803909,
          -0.06377390772104263,
          null,
          -0.044642407447099686,
          -0.0526583306491375,
          -0.049484651535749435,
          -0.044642407447099686,
          null,
          -0.0526583306491375,
          -0.058058999478816986,
          -0.049484651535749435,
          -0.0526583306491375,
          null,
          -0.0526583306491375,
          -0.06156165152788162,
          -0.06745213270187378,
          -0.0526583306491375,
          null,
          -0.058058999478816986,
          -0.0526583306491375,
          -0.06745213270187378,
          -0.058058999478816986,
          null
         ]
        },
        {
         "hoverinfo": "none",
         "marker": {
          "color": [
           -0.08892365296681722,
           -0.025069815417130787
          ],
          "colorscale": [
           [
            0,
            "rgb(94, 79, 162)"
           ],
           [
            0.1111111111111111,
            "rgb(55, 142, 187)"
           ],
           [
            0.2222222222222222,
            "rgb(116, 199, 165)"
           ],
           [
            0.3333333333333333,
            "rgb(191, 229, 160)"
           ],
           [
            0.4444444444444444,
            "rgb(241, 249, 169)"
           ],
           [
            0.5555555555555556,
            "rgb(254, 237, 161)"
           ],
           [
            0.6666666666666666,
            "rgb(253, 191, 111)"
           ],
           [
            0.7777777777777777,
            "rgb(246, 122, 73)"
           ],
           [
            0.8888888888888888,
            "rgb(216, 67, 78)"
           ],
           [
            1,
            "rgb(158, 1, 66)"
           ]
          ],
          "showscale": true,
          "size": 0.1
         },
         "mode": "markers",
         "showlegend": false,
         "type": "scatter3d",
         "x": [
          0
         ],
         "y": [
          1
         ],
         "z": [
          -0.034189049154520035
         ]
        }
       ],
       "layout": {
        "height": 800,
        "scene": {
         "aspectratio": {
          "x": 1,
          "y": 1,
          "z": 1
         },
         "xaxis": {
          "autorange": "reversed",
          "backgroundcolor": "rgb(230, 230, 230)",
          "gridcolor": "rgb(255, 255, 255)",
          "showbackground": true,
          "tickvals": [
           0,
           0.25,
           0.5,
           0.75,
           1
          ],
          "title": {
           "text": "Proportion of Women"
          },
          "zerolinecolor": "rgb(255, 255, 255)"
         },
         "yaxis": {
          "autorange": "reversed",
          "backgroundcolor": "rgb(230, 230, 230)",
          "gridcolor": "rgb(255, 255, 255)",
          "showbackground": true,
          "tickvals": [
           1,
           1.5,
           2,
           2.5,
           3,
           3.5,
           4
          ],
          "title": {
           "text": "log(Number of Pages)"
          },
          "zerolinecolor": "rgb(255, 255, 255)"
         },
         "zaxis": {
          "backgroundcolor": "rgb(230, 230, 230)",
          "gridcolor": "rgb(255, 255, 255)",
          "showbackground": true,
          "tickvals": [
           -0.1,
           -0.08,
           -0.06,
           -0.039999999999999994,
           -0.01999999999999999,
           1.3877787807814457e-17
          ],
          "title": {
           "text": "Delta Hat"
          },
          "zerolinecolor": "rgb(255, 255, 255)"
         }
        },
        "template": {
         "data": {
          "bar": [
           {
            "error_x": {
             "color": "#2a3f5f"
            },
            "error_y": {
             "color": "#2a3f5f"
            },
            "marker": {
             "line": {
              "color": "#E5ECF6",
              "width": 0.5
             },
             "pattern": {
              "fillmode": "overlay",
              "size": 10,
              "solidity": 0.2
             }
            },
            "type": "bar"
           }
          ],
          "barpolar": [
           {
            "marker": {
             "line": {
              "color": "#E5ECF6",
              "width": 0.5
             },
             "pattern": {
              "fillmode": "overlay",
              "size": 10,
              "solidity": 0.2
             }
            },
            "type": "barpolar"
           }
          ],
          "carpet": [
           {
            "aaxis": {
             "endlinecolor": "#2a3f5f",
             "gridcolor": "white",
             "linecolor": "white",
             "minorgridcolor": "white",
             "startlinecolor": "#2a3f5f"
            },
            "baxis": {
             "endlinecolor": "#2a3f5f",
             "gridcolor": "white",
             "linecolor": "white",
             "minorgridcolor": "white",
             "startlinecolor": "#2a3f5f"
            },
            "type": "carpet"
           }
          ],
          "choropleth": [
           {
            "colorbar": {
             "outlinewidth": 0,
             "ticks": ""
            },
            "type": "choropleth"
           }
          ],
          "contour": [
           {
            "colorbar": {
             "outlinewidth": 0,
             "ticks": ""
            },
            "colorscale": [
             [
              0,
              "#0d0887"
             ],
             [
              0.1111111111111111,
              "#46039f"
             ],
             [
              0.2222222222222222,
              "#7201a8"
             ],
             [
              0.3333333333333333,
              "#9c179e"
             ],
             [
              0.4444444444444444,
              "#bd3786"
             ],
             [
              0.5555555555555556,
              "#d8576b"
             ],
             [
              0.6666666666666666,
              "#ed7953"
             ],
             [
              0.7777777777777778,
              "#fb9f3a"
             ],
             [
              0.8888888888888888,
              "#fdca26"
             ],
             [
              1,
              "#f0f921"
             ]
            ],
            "type": "contour"
           }
          ],
          "contourcarpet": [
           {
            "colorbar": {
             "outlinewidth": 0,
             "ticks": ""
            },
            "type": "contourcarpet"
           }
          ],
          "heatmap": [
           {
            "colorbar": {
             "outlinewidth": 0,
             "ticks": ""
            },
            "colorscale": [
             [
              0,
              "#0d0887"
             ],
             [
              0.1111111111111111,
              "#46039f"
             ],
             [
              0.2222222222222222,
              "#7201a8"
             ],
             [
              0.3333333333333333,
              "#9c179e"
             ],
             [
              0.4444444444444444,
              "#bd3786"
             ],
             [
              0.5555555555555556,
              "#d8576b"
             ],
             [
              0.6666666666666666,
              "#ed7953"
             ],
             [
              0.7777777777777778,
              "#fb9f3a"
             ],
             [
              0.8888888888888888,
              "#fdca26"
             ],
             [
              1,
              "#f0f921"
             ]
            ],
            "type": "heatmap"
           }
          ],
          "heatmapgl": [
           {
            "colorbar": {
             "outlinewidth": 0,
             "ticks": ""
            },
            "colorscale": [
             [
              0,
              "#0d0887"
             ],
             [
              0.1111111111111111,
              "#46039f"
             ],
             [
              0.2222222222222222,
              "#7201a8"
             ],
             [
              0.3333333333333333,
              "#9c179e"
             ],
             [
              0.4444444444444444,
              "#bd3786"
             ],
             [
              0.5555555555555556,
              "#d8576b"
             ],
             [
              0.6666666666666666,
              "#ed7953"
             ],
             [
              0.7777777777777778,
              "#fb9f3a"
             ],
             [
              0.8888888888888888,
              "#fdca26"
             ],
             [
              1,
              "#f0f921"
             ]
            ],
            "type": "heatmapgl"
           }
          ],
          "histogram": [
           {
            "marker": {
             "pattern": {
              "fillmode": "overlay",
              "size": 10,
              "solidity": 0.2
             }
            },
            "type": "histogram"
           }
          ],
          "histogram2d": [
           {
            "colorbar": {
             "outlinewidth": 0,
             "ticks": ""
            },
            "colorscale": [
             [
              0,
              "#0d0887"
             ],
             [
              0.1111111111111111,
              "#46039f"
             ],
             [
              0.2222222222222222,
              "#7201a8"
             ],
             [
              0.3333333333333333,
              "#9c179e"
             ],
             [
              0.4444444444444444,
              "#bd3786"
             ],
             [
              0.5555555555555556,
              "#d8576b"
             ],
             [
              0.6666666666666666,
              "#ed7953"
             ],
             [
              0.7777777777777778,
              "#fb9f3a"
             ],
             [
              0.8888888888888888,
              "#fdca26"
             ],
             [
              1,
              "#f0f921"
             ]
            ],
            "type": "histogram2d"
           }
          ],
          "histogram2dcontour": [
           {
            "colorbar": {
             "outlinewidth": 0,
             "ticks": ""
            },
            "colorscale": [
             [
              0,
              "#0d0887"
             ],
             [
              0.1111111111111111,
              "#46039f"
             ],
             [
              0.2222222222222222,
              "#7201a8"
             ],
             [
              0.3333333333333333,
              "#9c179e"
             ],
             [
              0.4444444444444444,
              "#bd3786"
             ],
             [
              0.5555555555555556,
              "#d8576b"
             ],
             [
              0.6666666666666666,
              "#ed7953"
             ],
             [
              0.7777777777777778,
              "#fb9f3a"
             ],
             [
              0.8888888888888888,
              "#fdca26"
             ],
             [
              1,
              "#f0f921"
             ]
            ],
            "type": "histogram2dcontour"
           }
          ],
          "mesh3d": [
           {
            "colorbar": {
             "outlinewidth": 0,
             "ticks": ""
            },
            "type": "mesh3d"
           }
          ],
          "parcoords": [
           {
            "line": {
             "colorbar": {
              "outlinewidth": 0,
              "ticks": ""
             }
            },
            "type": "parcoords"
           }
          ],
          "pie": [
           {
            "automargin": true,
            "type": "pie"
           }
          ],
          "scatter": [
           {
            "fillpattern": {
             "fillmode": "overlay",
             "size": 10,
             "solidity": 0.2
            },
            "type": "scatter"
           }
          ],
          "scatter3d": [
           {
            "line": {
             "colorbar": {
              "outlinewidth": 0,
              "ticks": ""
             }
            },
            "marker": {
             "colorbar": {
              "outlinewidth": 0,
              "ticks": ""
             }
            },
            "type": "scatter3d"
           }
          ],
          "scattercarpet": [
           {
            "marker": {
             "colorbar": {
              "outlinewidth": 0,
              "ticks": ""
             }
            },
            "type": "scattercarpet"
           }
          ],
          "scattergeo": [
           {
            "marker": {
             "colorbar": {
              "outlinewidth": 0,
              "ticks": ""
             }
            },
            "type": "scattergeo"
           }
          ],
          "scattergl": [
           {
            "marker": {
             "colorbar": {
              "outlinewidth": 0,
              "ticks": ""
             }
            },
            "type": "scattergl"
           }
          ],
          "scattermapbox": [
           {
            "marker": {
             "colorbar": {
              "outlinewidth": 0,
              "ticks": ""
             }
            },
            "type": "scattermapbox"
           }
          ],
          "scatterpolar": [
           {
            "marker": {
             "colorbar": {
              "outlinewidth": 0,
              "ticks": ""
             }
            },
            "type": "scatterpolar"
           }
          ],
          "scatterpolargl": [
           {
            "marker": {
             "colorbar": {
              "outlinewidth": 0,
              "ticks": ""
             }
            },
            "type": "scatterpolargl"
           }
          ],
          "scatterternary": [
           {
            "marker": {
             "colorbar": {
              "outlinewidth": 0,
              "ticks": ""
             }
            },
            "type": "scatterternary"
           }
          ],
          "surface": [
           {
            "colorbar": {
             "outlinewidth": 0,
             "ticks": ""
            },
            "colorscale": [
             [
              0,
              "#0d0887"
             ],
             [
              0.1111111111111111,
              "#46039f"
             ],
             [
              0.2222222222222222,
              "#7201a8"
             ],
             [
              0.3333333333333333,
              "#9c179e"
             ],
             [
              0.4444444444444444,
              "#bd3786"
             ],
             [
              0.5555555555555556,
              "#d8576b"
             ],
             [
              0.6666666666666666,
              "#ed7953"
             ],
             [
              0.7777777777777778,
              "#fb9f3a"
             ],
             [
              0.8888888888888888,
              "#fdca26"
             ],
             [
              1,
              "#f0f921"
             ]
            ],
            "type": "surface"
           }
          ],
          "table": [
           {
            "cells": {
             "fill": {
              "color": "#EBF0F8"
             },
             "line": {
              "color": "white"
             }
            },
            "header": {
             "fill": {
              "color": "#C8D4E3"
             },
             "line": {
              "color": "white"
             }
            },
            "type": "table"
           }
          ]
         },
         "layout": {
          "annotationdefaults": {
           "arrowcolor": "#2a3f5f",
           "arrowhead": 0,
           "arrowwidth": 1
          },
          "autotypenumbers": "strict",
          "coloraxis": {
           "colorbar": {
            "outlinewidth": 0,
            "ticks": ""
           }
          },
          "colorscale": {
           "diverging": [
            [
             0,
             "#8e0152"
            ],
            [
             0.1,
             "#c51b7d"
            ],
            [
             0.2,
             "#de77ae"
            ],
            [
             0.3,
             "#f1b6da"
            ],
            [
             0.4,
             "#fde0ef"
            ],
            [
             0.5,
             "#f7f7f7"
            ],
            [
             0.6,
             "#e6f5d0"
            ],
            [
             0.7,
             "#b8e186"
            ],
            [
             0.8,
             "#7fbc41"
            ],
            [
             0.9,
             "#4d9221"
            ],
            [
             1,
             "#276419"
            ]
           ],
           "sequential": [
            [
             0,
             "#0d0887"
            ],
            [
             0.1111111111111111,
             "#46039f"
            ],
            [
             0.2222222222222222,
             "#7201a8"
            ],
            [
             0.3333333333333333,
             "#9c179e"
            ],
            [
             0.4444444444444444,
             "#bd3786"
            ],
            [
             0.5555555555555556,
             "#d8576b"
            ],
            [
             0.6666666666666666,
             "#ed7953"
            ],
            [
             0.7777777777777778,
             "#fb9f3a"
            ],
            [
             0.8888888888888888,
             "#fdca26"
            ],
            [
             1,
             "#f0f921"
            ]
           ],
           "sequentialminus": [
            [
             0,
             "#0d0887"
            ],
            [
             0.1111111111111111,
             "#46039f"
            ],
            [
             0.2222222222222222,
             "#7201a8"
            ],
            [
             0.3333333333333333,
             "#9c179e"
            ],
            [
             0.4444444444444444,
             "#bd3786"
            ],
            [
             0.5555555555555556,
             "#d8576b"
            ],
            [
             0.6666666666666666,
             "#ed7953"
            ],
            [
             0.7777777777777778,
             "#fb9f3a"
            ],
            [
             0.8888888888888888,
             "#fdca26"
            ],
            [
             1,
             "#f0f921"
            ]
           ]
          },
          "colorway": [
           "#636efa",
           "#EF553B",
           "#00cc96",
           "#ab63fa",
           "#FFA15A",
           "#19d3f3",
           "#FF6692",
           "#B6E880",
           "#FF97FF",
           "#FECB52"
          ],
          "font": {
           "color": "#2a3f5f"
          },
          "geo": {
           "bgcolor": "white",
           "lakecolor": "white",
           "landcolor": "#E5ECF6",
           "showlakes": true,
           "showland": true,
           "subunitcolor": "white"
          },
          "hoverlabel": {
           "align": "left"
          },
          "hovermode": "closest",
          "mapbox": {
           "style": "light"
          },
          "paper_bgcolor": "white",
          "plot_bgcolor": "#E5ECF6",
          "polar": {
           "angularaxis": {
            "gridcolor": "white",
            "linecolor": "white",
            "ticks": ""
           },
           "bgcolor": "#E5ECF6",
           "radialaxis": {
            "gridcolor": "white",
            "linecolor": "white",
            "ticks": ""
           }
          },
          "scene": {
           "xaxis": {
            "backgroundcolor": "#E5ECF6",
            "gridcolor": "white",
            "gridwidth": 2,
            "linecolor": "white",
            "showbackground": true,
            "ticks": "",
            "zerolinecolor": "white"
           },
           "yaxis": {
            "backgroundcolor": "#E5ECF6",
            "gridcolor": "white",
            "gridwidth": 2,
            "linecolor": "white",
            "showbackground": true,
            "ticks": "",
            "zerolinecolor": "white"
           },
           "zaxis": {
            "backgroundcolor": "#E5ECF6",
            "gridcolor": "white",
            "gridwidth": 2,
            "linecolor": "white",
            "showbackground": true,
            "ticks": "",
            "zerolinecolor": "white"
           }
          },
          "shapedefaults": {
           "line": {
            "color": "#2a3f5f"
           }
          },
          "ternary": {
           "aaxis": {
            "gridcolor": "white",
            "linecolor": "white",
            "ticks": ""
           },
           "baxis": {
            "gridcolor": "white",
            "linecolor": "white",
            "ticks": ""
           },
           "bgcolor": "#E5ECF6",
           "caxis": {
            "gridcolor": "white",
            "linecolor": "white",
            "ticks": ""
           }
          },
          "title": {
           "x": 0.05
          },
          "xaxis": {
           "automargin": true,
           "gridcolor": "white",
           "linecolor": "white",
           "ticks": "",
           "title": {
            "standoff": 15
           },
           "zerolinecolor": "white",
           "zerolinewidth": 2
          },
          "yaxis": {
           "automargin": true,
           "gridcolor": "white",
           "linecolor": "white",
           "ticks": "",
           "title": {
            "standoff": 15
           },
           "zerolinecolor": "white",
           "zerolinewidth": 2
          }
         }
        },
        "title": {
         "text": "Superficie 3D Interactiva"
        },
        "width": 800
       }
      },
      "image/png": "[encoded data removed]",
      "text/html": [
       "<div>                            <div id=\"6305f8f5-5b2f-4e72-9449-c0619f9ad3a9\" class=\"plotly-graph-div\" style=\"height:800px; width:800px;\"></div>            <script type=\"text/javascript\">                require([\"plotly\"], function(Plotly) {                    window.PLOTLYENV=window.PLOTLYENV || {};                                    if (document.getElementById(\"6305f8f5-5b2f-4e72-9449-c0619f9ad3a9\")) {                    Plotly.newPlot(                        \"6305f8f5-5b2f-4e72-9449-c0619f9ad3a9\",                        [{\"facecolor\":[\"rgb(248, 142, 84)\",\"rgb(252, 181, 105)\",\"rgb(246, 245, 166)\",\"rgb(243, 247, 168)\",\"rgb(210, 61, 77)\",\"rgb(216, 67, 78)\",\"rgb(223, 80, 77)\",\"rgb(237, 106, 74)\",\"rgb(253, 206, 127)\",\"rgb(253, 199, 120)\",\"rgb(250, 240, 163)\",\"rgb(254, 220, 143)\",\"rgb(165, 219, 162)\",\"rgb(178, 224, 161)\",\"rgb(136, 207, 164)\",\"rgb(85, 170, 176)\",\"rgb(251, 170, 99)\",\"rgb(247, 132, 79)\",\"rgb(239, 109, 74)\",\"rgb(243, 116, 74)\",\"rgb(253, 212, 133)\",\"rgb(254, 218, 141)\",\"rgb(253, 196, 117)\",\"rgb(250, 159, 93)\",\"rgb(173, 19, 69)\",\"rgb(196, 45, 74)\",\"rgb(158, 1, 66)\",\"rgb(163, 7, 67)\",\"rgb(87, 91, 167)\",\"rgb(94, 79, 162)\",\"rgb(71, 117, 177)\",\"rgb(78, 164, 179)\",\"rgb(231, 94, 76)\",\"rgb(217, 69, 78)\",\"rgb(205, 55, 76)\",\"rgb(200, 48, 75)\",\"rgb(248, 140, 83)\",\"rgb(247, 131, 78)\",\"rgb(241, 113, 74)\",\"rgb(227, 87, 76)\",\"rgb(94, 178, 173)\",\"rgb(82, 168, 177)\",\"rgb(119, 200, 165)\",\"rgb(176, 223, 161)\",\"rgb(207, 236, 163)\",\"rgb(160, 217, 162)\",\"rgb(234, 246, 168)\",\"rgb(226, 243, 166)\",\"rgb(253, 238, 162)\",\"rgb(244, 246, 167)\",\"rgb(200, 233, 162)\",\"rgb(209, 236, 163)\",\"rgb(253, 208, 129)\",\"rgb(254, 237, 161)\",\"rgb(241, 249, 169)\",\"rgb(243, 247, 168)\"],\"i\":[36,27,3,11,9,9,8,9,20,27,11,20,31,38,31,22,1,9,10,18,10,10,11,10,24,16,25,33,6,14,15,14,26,25,34,26,26,18,27,26,5,13,14,13,12,13,20,21,29,29,22,21,36,37,37,29],\"j\":[27,36,11,12,8,16,9,1,27,20,20,11,38,31,22,31,10,10,9,10,3,11,10,18,25,25,24,25,14,15,14,22,18,26,26,25,27,26,26,34,13,14,13,21,13,5,13,13,20,21,29,29,37,29,38,37],\"k\":[35,28,4,4,16,17,0,0,28,19,12,19,39,30,30,23,2,1,17,17,2,3,19,19,16,17,32,32,7,7,23,23,17,17,33,33,19,19,35,35,6,6,22,22,4,4,12,20,28,20,30,22,28,28,30,30],\"name\":\"\",\"x\":[0.0,0.0,0.0,0.0,0.0,0.0,0.0,0.0,0.25,0.25,0.25,0.25,0.25,0.25,0.25,0.25,0.5,0.5,0.5,0.5,0.5,0.5,0.5,0.5,0.75,0.75,0.75,0.75,0.75,0.75,0.75,0.75,1.0,1.0,1.0,1.0,1.0,1.0,1.0,1.0],\"y\":[1.0,1.5,2.0,2.5,3.0,3.5,4.0,4.5,1.0,1.5,2.0,2.5,3.0,3.5,4.0,4.5,1.0,1.5,2.0,2.5,3.0,3.5,4.0,4.5,1.0,1.5,2.0,2.5,3.0,3.5,4.0,4.5,1.0,1.5,2.0,2.5,3.0,3.5,4.0,4.5],\"z\":[-0.034189049154520035,-0.04077734053134918,-0.04830004647374153,-0.056744012981653214,-0.06602618098258972,-0.07597219944000244,-0.08629909157752991,-0.09660821408033371,-0.03057239204645157,-0.036599062383174896,-0.043542616069316864,-0.051422424614429474,-0.06020118296146393,-0.06976335495710373,-0.07989469915628433,-0.09026804566383362,-0.027284353971481323,-0.03277130797505379,-0.03914348781108856,-0.0464453361928463,-0.054677024483680725,-0.06377390772104263,-0.07358492165803909,-0.08385378122329712,-0.02430703490972519,-0.029281800612807274,-0.035099901258945465,-0.04182426631450653,-0.049484651535749435,-0.058058999478816986,-0.06745213270187378,-0.07747463881969452,-0.0216206107288599,-0.026114385575056076,-0.03140271082520485,-0.037561312317848206,-0.044642407447099686,-0.0526583306491375,-0.06156165152788162,-0.07122351974248886],\"type\":\"mesh3d\"},{\"line\":{\"color\":\"rgb(50, 50, 50)\",\"width\":1.5},\"mode\":\"lines\",\"showlegend\":false,\"x\":[1.0,0.75,1.0,1.0,null,0.75,1.0,0.75,0.75,null,0.0,0.25,0.0,0.0,null,0.25,0.25,0.0,0.25,null,0.25,0.25,0.5,0.25,null,0.25,0.5,0.5,0.25,null,0.25,0.25,0.0,0.25,null,0.25,0.0,0.0,0.25,null,0.5,0.75,0.75,0.5,null,0.75,0.5,0.5,0.75,null,0.25,0.5,0.25,0.25,null,0.5,0.25,0.5,0.5,null,0.75,1.0,1.0,0.75,null,1.0,0.75,0.75,1.0,null,0.75,0.5,0.75,0.75,null,0.5,0.75,0.5,0.5,null,0.0,0.25,0.0,0.0,null,0.25,0.25,0.0,0.25,null,0.25,0.25,0.5,0.25,null,0.5,0.25,0.5,0.5,null,0.25,0.0,0.0,0.25,null,0.25,0.25,0.0,0.25,null,0.25,0.25,0.5,0.25,null,0.25,0.5,0.5,0.25,null,0.75,0.75,0.5,0.75,null,0.5,0.75,0.5,0.5,null,0.75,0.75,1.0,0.75,null,1.0,0.75,1.0,1.0,null,0.0,0.25,0.0,0.0,null,0.25,0.25,0.0,0.25,null,0.25,0.25,0.5,0.25,null,0.25,0.5,0.5,0.25,null,0.75,0.5,0.5,0.75,null,0.75,0.75,0.5,0.75,null,1.0,0.75,1.0,1.0,null,0.75,0.75,1.0,0.75,null,0.75,0.75,0.5,0.75,null,0.5,0.75,0.5,0.5,null,0.75,0.75,1.0,0.75,null,0.75,1.0,1.0,0.75,null,0.0,0.25,0.0,0.0,null,0.25,0.25,0.0,0.25,null,0.25,0.25,0.5,0.25,null,0.25,0.5,0.5,0.25,null,0.25,0.25,0.0,0.25,null,0.25,0.0,0.0,0.25,null,0.5,0.25,0.25,0.5,null,0.5,0.25,0.5,0.5,null,0.75,0.5,0.75,0.75,null,0.75,0.5,0.5,0.75,null,0.5,0.75,0.75,0.5,null,0.5,0.75,0.5,0.5,null,1.0,1.0,0.75,1.0,null,1.0,0.75,0.75,1.0,null,1.0,1.0,0.75,1.0,null,0.75,1.0,0.75,0.75,null],\"y\":[3.0,2.5,2.5,3.0,null,2.5,3.0,3.0,2.5,null,2.5,2.5,3.0,2.5,null,2.5,3.0,3.0,2.5,null,1.5,1.0,1.0,1.5,null,1.5,1.0,1.5,1.5,null,1.0,1.5,1.0,1.0,null,1.5,1.5,1.0,1.5,null,3.0,2.5,3.0,3.0,null,2.5,3.0,2.5,2.5,null,2.5,3.0,3.0,2.5,null,3.0,2.5,2.5,3.0,null,4.5,4.0,4.5,4.5,null,4.0,4.5,4.0,4.0,null,4.5,4.0,4.0,4.5,null,4.0,4.5,4.5,4.0,null,1.5,2.0,2.0,1.5,null,1.5,2.0,1.5,1.5,null,2.0,1.5,1.5,2.0,null,2.0,2.0,1.5,2.0,null,2.0,2.5,2.0,2.0,null,2.0,2.5,2.5,2.0,null,2.5,2.0,2.5,2.5,null,2.0,2.0,2.5,2.0,null,1.0,1.5,1.0,1.0,null,1.0,1.5,1.5,1.0,null,1.5,1.0,1.0,1.5,null,1.5,1.5,1.0,1.5,null,4.0,4.0,4.5,4.0,null,4.0,4.5,4.5,4.0,null,4.5,4.0,4.5,4.5,null,4.0,4.0,4.5,4.0,null,2.0,2.0,1.5,2.0,null,1.5,2.0,1.5,1.5,null,2.0,2.0,1.5,2.0,null,2.0,1.5,1.5,2.0,null,2.0,2.5,2.5,2.0,null,2.0,2.0,2.5,2.0,null,2.5,2.0,2.5,2.5,null,2.0,2.0,2.5,2.0,null,3.5,3.5,4.0,3.5,null,3.5,4.0,4.0,3.5,null,4.0,3.5,4.0,4.0,null,3.5,3.5,4.0,3.5,null,3.0,3.5,3.0,3.0,null,3.5,3.5,3.0,3.5,null,3.0,3.5,3.0,3.0,null,3.5,3.5,3.0,3.5,null,3.5,3.0,3.0,3.5,null,3.5,3.5,3.0,3.5,null,4.0,3.5,4.0,4.0,null,3.5,3.5,4.0,3.5,null,3.0,3.5,3.0,3.0,null,3.5,3.5,3.0,3.5,null,3.5,4.0,4.0,3.5,null,3.5,3.5,4.0,3.5,null],\"z\":[-0.044642407447099686,-0.04182426631450653,-0.037561312317848206,-0.044642407447099686,null,-0.04182426631450653,-0.044642407447099686,-0.049484651535749435,-0.04182426631450653,null,-0.056744012981653214,-0.051422424614429474,-0.06602618098258972,-0.056744012981653214,null,-0.051422424614429474,-0.06020118296146393,-0.06602618098258972,-0.051422424614429474,null,-0.036599062383174896,-0.03057239204645157,-0.027284353971481323,-0.036599062383174896,null,-0.036599062383174896,-0.027284353971481323,-0.03277130797505379,-0.036599062383174896,null,-0.03057239204645157,-0.036599062383174896,-0.034189049154520035,-0.03057239204645157,null,-0.036599062383174896,-0.04077734053134918,-0.034189049154520035,-0.036599062383174896,null,-0.054677024483680725,-0.04182426631450653,-0.049484651535749435,-0.054677024483680725,null,-0.04182426631450653,-0.054677024483680725,-0.0464453361928463,-0.04182426631450653,null,-0.051422424614429474,-0.054677024483680725,-0.06020118296146393,-0.051422424614429474,null,-0.054677024483680725,-0.051422424614429474,-0.0464453361928463,-0.054677024483680725,null,-0.07747463881969452,-0.06156165152788162,-0.07122351974248886,-0.07747463881969452,null,-0.06156165152788162,-0.07747463881969452,-0.06745213270187378,-0.06156165152788162,null,-0.07747463881969452,-0.07358492165803909,-0.06745213270187378,-0.07747463881969452,null,-0.07358492165803909,-0.07747463881969452,-0.08385378122329712,-0.07358492165803909,null,-0.04077734053134918,-0.043542616069316864,-0.04830004647374153,-0.04077734053134918,null,-0.036599062383174896,-0.043542616069316864,-0.04077734053134918,-0.036599062383174896,null,-0.043542616069316864,-0.036599062383174896,-0.03277130797505379,-0.043542616069316864,null,-0.03914348781108856,-0.043542616069316864,-0.03277130797505379,-0.03914348781108856,null,-0.043542616069316864,-0.056744012981653214,-0.04830004647374153,-0.043542616069316864,null,-0.043542616069316864,-0.051422424614429474,-0.056744012981653214,-0.043542616069316864,null,-0.051422424614429474,-0.043542616069316864,-0.0464453361928463,-0.051422424614429474,null,-0.043542616069316864,-0.03914348781108856,-0.0464453361928463,-0.043542616069316864,null,-0.02430703490972519,-0.029281800612807274,-0.027284353971481323,-0.02430703490972519,null,-0.027284353971481323,-0.029281800612807274,-0.03277130797505379,-0.027284353971481323,null,-0.029281800612807274,-0.02430703490972519,-0.0216206107288599,-0.029281800612807274,null,-0.026114385575056076,-0.029281800612807274,-0.0216206107288599,-0.026114385575056076,null,-0.08629909157752991,-0.07989469915628433,-0.09660821408033371,-0.08629909157752991,null,-0.07989469915628433,-0.09026804566383362,-0.09660821408033371,-0.07989469915628433,null,-0.09026804566383362,-0.07989469915628433,-0.08385378122329712,-0.09026804566383362,null,-0.07989469915628433,-0.07358492165803909,-0.08385378122329712,-0.07989469915628433,null,-0.035099901258945465,-0.03914348781108856,-0.03277130797505379,-0.035099901258945465,null,-0.029281800612807274,-0.035099901258945465,-0.03277130797505379,-0.029281800612807274,null,-0.03140271082520485,-0.035099901258945465,-0.026114385575056076,-0.03140271082520485,null,-0.035099901258945465,-0.029281800612807274,-0.026114385575056076,-0.035099901258945465,null,-0.035099901258945465,-0.04182426631450653,-0.0464453361928463,-0.035099901258945465,null,-0.03914348781108856,-0.035099901258945465,-0.0464453361928463,-0.03914348781108856,null,-0.04182426631450653,-0.035099901258945465,-0.037561312317848206,-0.04182426631450653,null,-0.035099901258945465,-0.03140271082520485,-0.037561312317848206,-0.035099901258945465,null,-0.07597219944000244,-0.06976335495710373,-0.08629909157752991,-0.07597219944000244,null,-0.06976335495710373,-0.07989469915628433,-0.08629909157752991,-0.06976335495710373,null,-0.07989469915628433,-0.06976335495710373,-0.07358492165803909,-0.07989469915628433,null,-0.06976335495710373,-0.06377390772104263,-0.07358492165803909,-0.06976335495710373,null,-0.06020118296146393,-0.06976335495710373,-0.06602618098258972,-0.06020118296146393,null,-0.06976335495710373,-0.07597219944000244,-0.06602618098258972,-0.06976335495710373,null,-0.054677024483680725,-0.06976335495710373,-0.06020118296146393,-0.054677024483680725,null,-0.06377390772104263,-0.06976335495710373,-0.054677024483680725,-0.06377390772104263,null,-0.058058999478816986,-0.054677024483680725,-0.049484651535749435,-0.058058999478816986,null,-0.058058999478816986,-0.06377390772104263,-0.054677024483680725,-0.058058999478816986,null,-0.07358492165803909,-0.058058999478816986,-0.06745213270187378,-0.07358492165803909,null,-0.06377390772104263,-0.058058999478816986,-0.07358492165803909,-0.06377390772104263,null,-0.044642407447099686,-0.0526583306491375,-0.049484651535749435,-0.044642407447099686,null,-0.0526583306491375,-0.058058999478816986,-0.049484651535749435,-0.0526583306491375,null,-0.0526583306491375,-0.06156165152788162,-0.06745213270187378,-0.0526583306491375,null,-0.058058999478816986,-0.0526583306491375,-0.06745213270187378,-0.058058999478816986,null],\"type\":\"scatter3d\"},{\"hoverinfo\":\"none\",\"marker\":{\"color\":[-0.08892365296681722,-0.025069815417130787],\"colorscale\":[[0.0,\"rgb(94, 79, 162)\"],[0.1111111111111111,\"rgb(55, 142, 187)\"],[0.2222222222222222,\"rgb(116, 199, 165)\"],[0.3333333333333333,\"rgb(191, 229, 160)\"],[0.4444444444444444,\"rgb(241, 249, 169)\"],[0.5555555555555556,\"rgb(254, 237, 161)\"],[0.6666666666666666,\"rgb(253, 191, 111)\"],[0.7777777777777777,\"rgb(246, 122, 73)\"],[0.8888888888888888,\"rgb(216, 67, 78)\"],[1.0,\"rgb(158, 1, 66)\"]],\"showscale\":true,\"size\":0.1},\"mode\":\"markers\",\"showlegend\":false,\"x\":[0.0],\"y\":[1.0],\"z\":[-0.034189049154520035],\"type\":\"scatter3d\"}],                        {\"height\":800,\"scene\":{\"aspectratio\":{\"x\":1,\"y\":1,\"z\":1},\"xaxis\":{\"backgroundcolor\":\"rgb(230, 230, 230)\",\"gridcolor\":\"rgb(255, 255, 255)\",\"showbackground\":true,\"zerolinecolor\":\"rgb(255, 255, 255)\",\"title\":{\"text\":\"Proportion of Women\"},\"tickvals\":[0.0,0.25,0.5,0.75,1.0],\"autorange\":\"reversed\"},\"yaxis\":{\"backgroundcolor\":\"rgb(230, 230, 230)\",\"gridcolor\":\"rgb(255, 255, 255)\",\"showbackground\":true,\"zerolinecolor\":\"rgb(255, 255, 255)\",\"title\":{\"text\":\"log(Number of Pages)\"},\"tickvals\":[1.0,1.5,2.0,2.5,3.0,3.5,4.0],\"autorange\":\"reversed\"},\"zaxis\":{\"backgroundcolor\":\"rgb(230, 230, 230)\",\"gridcolor\":\"rgb(255, 255, 255)\",\"showbackground\":true,\"zerolinecolor\":\"rgb(255, 255, 255)\",\"title\":{\"text\":\"Delta Hat\"},\"tickvals\":[-0.1,-0.08,-0.06,-0.039999999999999994,-0.01999999999999999,1.3877787807814457e-17]}},\"title\":{\"text\":\"Superficie 3D Interactiva\"},\"width\":800,\"template\":{\"data\":{\"histogram2dcontour\":[{\"type\":\"histogram2dcontour\",\"colorbar\":{\"outlinewidth\":0,\"ticks\":\"\"},\"colorscale\":[[0.0,\"#0d0887\"],[0.1111111111111111,\"#46039f\"],[0.2222222222222222,\"#7201a8\"],[0.3333333333333333,\"#9c179e\"],[0.4444444444444444,\"#bd3786\"],[0.5555555555555556,\"#d8576b\"],[0.6666666666666666,\"#ed7953\"],[0.7777777777777778,\"#fb9f3a\"],[0.8888888888888888,\"#fdca26\"],[1.0,\"#f0f921\"]]}],\"choropleth\":[{\"type\":\"choropleth\",\"colorbar\":{\"outlinewidth\":0,\"ticks\":\"\"}}],\"histogram2d\":[{\"type\":\"histogram2d\",\"colorbar\":{\"outlinewidth\":0,\"ticks\":\"\"},\"colorscale\":[[0.0,\"#0d0887\"],[0.1111111111111111,\"#46039f\"],[0.2222222222222222,\"#7201a8\"],[0.3333333333333333,\"#9c179e\"],[0.4444444444444444,\"#bd3786\"],[0.5555555555555556,\"#d8576b\"],[0.6666666666666666,\"#ed7953\"],[0.7777777777777778,\"#fb9f3a\"],[0.8888888888888888,\"#fdca26\"],[1.0,\"#f0f921\"]]}],\"heatmap\":[{\"type\":\"heatmap\",\"colorbar\":{\"outlinewidth\":0,\"ticks\":\"\"},\"colorscale\":[[0.0,\"#0d0887\"],[0.1111111111111111,\"#46039f\"],[0.2222222222222222,\"#7201a8\"],[0.3333333333333333,\"#9c179e\"],[0.4444444444444444,\"#bd3786\"],[0.5555555555555556,\"#d8576b\"],[0.6666666666666666,\"#ed7953\"],[0.7777777777777778,\"#fb9f3a\"],[0.8888888888888888,\"#fdca26\"],[1.0,\"#f0f921\"]]}],\"heatmapgl\":[{\"type\":\"heatmapgl\",\"colorbar\":{\"outlinewidth\":0,\"ticks\":\"\"},\"colorscale\":[[0.0,\"#0d0887\"],[0.1111111111111111,\"#46039f\"],[0.2222222222222222,\"#7201a8\"],[0.3333333333333333,\"#9c179e\"],[0.4444444444444444,\"#bd3786\"],[0.5555555555555556,\"#d8576b\"],[0.6666666666666666,\"#ed7953\"],[0.7777777777777778,\"#fb9f3a\"],[0.8888888888888888,\"#fdca26\"],[1.0,\"#f0f921\"]]}],\"contourcarpet\":[{\"type\":\"contourcarpet\",\"colorbar\":{\"outlinewidth\":0,\"ticks\":\"\"}}],\"contour\":[{\"type\":\"contour\",\"colorbar\":{\"outlinewidth\":0,\"ticks\":\"\"},\"colorscale\":[[0.0,\"#0d0887\"],[0.1111111111111111,\"#46039f\"],[0.2222222222222222,\"#7201a8\"],[0.3333333333333333,\"#9c179e\"],[0.4444444444444444,\"#bd3786\"],[0.5555555555555556,\"#d8576b\"],[0.6666666666666666,\"#ed7953\"],[0.7777777777777778,\"#fb9f3a\"],[0.8888888888888888,\"#fdca26\"],[1.0,\"#f0f921\"]]}],\"surface\":[{\"type\":\"surface\",\"colorbar\":{\"outlinewidth\":0,\"ticks\":\"\"},\"colorscale\":[[0.0,\"#0d0887\"],[0.1111111111111111,\"#46039f\"],[0.2222222222222222,\"#7201a8\"],[0.3333333333333333,\"#9c179e\"],[0.4444444444444444,\"#bd3786\"],[0.5555555555555556,\"#d8576b\"],[0.6666666666666666,\"#ed7953\"],[0.7777777777777778,\"#fb9f3a\"],[0.8888888888888888,\"#fdca26\"],[1.0,\"#f0f921\"]]}],\"mesh3d\":[{\"type\":\"mesh3d\",\"colorbar\":{\"outlinewidth\":0,\"ticks\":\"\"}}],\"scatter\":[{\"fillpattern\":{\"fillmode\":\"overlay\",\"size\":10,\"solidity\":0.2},\"type\":\"scatter\"}],\"parcoords\":[{\"type\":\"parcoords\",\"line\":{\"colorbar\":{\"outlinewidth\":0,\"ticks\":\"\"}}}],\"scatterpolargl\":[{\"type\":\"scatterpolargl\",\"marker\":{\"colorbar\":{\"outlinewidth\":0,\"ticks\":\"\"}}}],\"bar\":[{\"error_x\":{\"color\":\"#2a3f5f\"},\"error_y\":{\"color\":\"#2a3f5f\"},\"marker\":{\"line\":{\"color\":\"#E5ECF6\",\"width\":0.5},\"pattern\":{\"fillmode\":\"overlay\",\"size\":10,\"solidity\":0.2}},\"type\":\"bar\"}],\"scattergeo\":[{\"type\":\"scattergeo\",\"marker\":{\"colorbar\":{\"outlinewidth\":0,\"ticks\":\"\"}}}],\"scatterpolar\":[{\"type\":\"scatterpolar\",\"marker\":{\"colorbar\":{\"outlinewidth\":0,\"ticks\":\"\"}}}],\"histogram\":[{\"marker\":{\"pattern\":{\"fillmode\":\"overlay\",\"size\":10,\"solidity\":0.2}},\"type\":\"histogram\"}],\"scattergl\":[{\"type\":\"scattergl\",\"marker\":{\"colorbar\":{\"outlinewidth\":0,\"ticks\":\"\"}}}],\"scatter3d\":[{\"type\":\"scatter3d\",\"line\":{\"colorbar\":{\"outlinewidth\":0,\"ticks\":\"\"}},\"marker\":{\"colorbar\":{\"outlinewidth\":0,\"ticks\":\"\"}}}],\"scattermapbox\":[{\"type\":\"scattermapbox\",\"marker\":{\"colorbar\":{\"outlinewidth\":0,\"ticks\":\"\"}}}],\"scatterternary\":[{\"type\":\"scatterternary\",\"marker\":{\"colorbar\":{\"outlinewidth\":0,\"ticks\":\"\"}}}],\"scattercarpet\":[{\"type\":\"scattercarpet\",\"marker\":{\"colorbar\":{\"outlinewidth\":0,\"ticks\":\"\"}}}],\"carpet\":[{\"aaxis\":{\"endlinecolor\":\"#2a3f5f\",\"gridcolor\":\"white\",\"linecolor\":\"white\",\"minorgridcolor\":\"white\",\"startlinecolor\":\"#2a3f5f\"},\"baxis\":{\"endlinecolor\":\"#2a3f5f\",\"gridcolor\":\"white\",\"linecolor\":\"white\",\"minorgridcolor\":\"white\",\"startlinecolor\":\"#2a3f5f\"},\"type\":\"carpet\"}],\"table\":[{\"cells\":{\"fill\":{\"color\":\"#EBF0F8\"},\"line\":{\"color\":\"white\"}},\"header\":{\"fill\":{\"color\":\"#C8D4E3\"},\"line\":{\"color\":\"white\"}},\"type\":\"table\"}],\"barpolar\":[{\"marker\":{\"line\":{\"color\":\"#E5ECF6\",\"width\":0.5},\"pattern\":{\"fillmode\":\"overlay\",\"size\":10,\"solidity\":0.2}},\"type\":\"barpolar\"}],\"pie\":[{\"automargin\":true,\"type\":\"pie\"}]},\"layout\":{\"autotypenumbers\":\"strict\",\"colorway\":[\"#636efa\",\"#EF553B\",\"#00cc96\",\"#ab63fa\",\"#FFA15A\",\"#19d3f3\",\"#FF6692\",\"#B6E880\",\"#FF97FF\",\"#FECB52\"],\"font\":{\"color\":\"#2a3f5f\"},\"hovermode\":\"closest\",\"hoverlabel\":{\"align\":\"left\"},\"paper_bgcolor\":\"white\",\"plot_bgcolor\":\"#E5ECF6\",\"polar\":{\"bgcolor\":\"#E5ECF6\",\"angularaxis\":{\"gridcolor\":\"white\",\"linecolor\":\"white\",\"ticks\":\"\"},\"radialaxis\":{\"gridcolor\":\"white\",\"linecolor\":\"white\",\"ticks\":\"\"}},\"ternary\":{\"bgcolor\":\"#E5ECF6\",\"aaxis\":{\"gridcolor\":\"white\",\"linecolor\":\"white\",\"ticks\":\"\"},\"baxis\":{\"gridcolor\":\"white\",\"linecolor\":\"white\",\"ticks\":\"\"},\"caxis\":{\"gridcolor\":\"white\",\"linecolor\":\"white\",\"ticks\":\"\"}},\"coloraxis\":{\"colorbar\":{\"outlinewidth\":0,\"ticks\":\"\"}},\"colorscale\":{\"sequential\":[[0.0,\"#0d0887\"],[0.1111111111111111,\"#46039f\"],[0.2222222222222222,\"#7201a8\"],[0.3333333333333333,\"#9c179e\"],[0.4444444444444444,\"#bd3786\"],[0.5555555555555556,\"#d8576b\"],[0.6666666666666666,\"#ed7953\"],[0.7777777777777778,\"#fb9f3a\"],[0.8888888888888888,\"#fdca26\"],[1.0,\"#f0f921\"]],\"sequentialminus\":[[0.0,\"#0d0887\"],[0.1111111111111111,\"#46039f\"],[0.2222222222222222,\"#7201a8\"],[0.3333333333333333,\"#9c179e\"],[0.4444444444444444,\"#bd3786\"],[0.5555555555555556,\"#d8576b\"],[0.6666666666666666,\"#ed7953\"],[0.7777777777777778,\"#fb9f3a\"],[0.8888888888888888,\"#fdca26\"],[1.0,\"#f0f921\"]],\"diverging\":[[0,\"#8e0152\"],[0.1,\"#c51b7d\"],[0.2,\"#de77ae\"],[0.3,\"#f1b6da\"],[0.4,\"#fde0ef\"],[0.5,\"#f7f7f7\"],[0.6,\"#e6f5d0\"],[0.7,\"#b8e186\"],[0.8,\"#7fbc41\"],[0.9,\"#4d9221\"],[1,\"#276419\"]]},\"xaxis\":{\"gridcolor\":\"white\",\"linecolor\":\"white\",\"ticks\":\"\",\"title\":{\"standoff\":15},\"zerolinecolor\":\"white\",\"automargin\":true,\"zerolinewidth\":2},\"yaxis\":{\"gridcolor\":\"white\",\"linecolor\":\"white\",\"ticks\":\"\",\"title\":{\"standoff\":15},\"zerolinecolor\":\"white\",\"automargin\":true,\"zerolinewidth\":2},\"scene\":{\"xaxis\":{\"backgroundcolor\":\"#E5ECF6\",\"gridcolor\":\"white\",\"linecolor\":\"white\",\"showbackground\":true,\"ticks\":\"\",\"zerolinecolor\":\"white\",\"gridwidth\":2},\"yaxis\":{\"backgroundcolor\":\"#E5ECF6\",\"gridcolor\":\"white\",\"linecolor\":\"white\",\"showbackground\":true,\"ticks\":\"\",\"zerolinecolor\":\"white\",\"gridwidth\":2},\"zaxis\":{\"backgroundcolor\":\"#E5ECF6\",\"gridcolor\":\"white\",\"linecolor\":\"white\",\"showbackground\":true,\"ticks\":\"\",\"zerolinecolor\":\"white\",\"gridwidth\":2}},\"shapedefaults\":{\"line\":{\"color\":\"#2a3f5f\"}},\"annotationdefaults\":{\"arrowcolor\":\"#2a3f5f\",\"arrowhead\":0,\"arrowwidth\":1},\"geo\":{\"bgcolor\":\"white\",\"landcolor\":\"#E5ECF6\",\"subunitcolor\":\"white\",\"showland\":true,\"showlakes\":true,\"lakecolor\":\"white\"},\"title\":{\"x\":0.05},\"mapbox\":{\"style\":\"light\"}}}},                        {\"responsive\": true}                    ).then(function(){\n",
       "                            \n",
       "var gd = document.getElementById('6305f8f5-5b2f-4e72-9449-c0619f9ad3a9');\n",
       "var x = new MutationObserver(function (mutations, observer) {{\n",
       "        var display = window.getComputedStyle(gd).display;\n",
       "        if (!display || display === 'none') {{\n",
       "            console.log([gd, 'removed!']);\n",
       "            Plotly.purge(gd);\n",
       "            observer.disconnect();\n",
       "        }}\n",
       "}});\n",
       "\n",
       "// Listen for the removal of the full notebook cells\n",
       "var notebookContainer = gd.closest('#notebook-container');\n",
       "if (notebookContainer) {{\n",
       "    x.observe(notebookContainer, {childList: true});\n",
       "}}\n",
       "\n",
       "// Listen for the clearing of the current output cell\n",
       "var outputEl = gd.closest('.output');\n",
       "if (outputEl) {{\n",
       "    x.observe(outputEl, {childList: true});\n",
       "}}\n",
       "\n",
       "                        })                };                });            </script>        </div>"
      ]
     },
     "metadata": {},
     "output_type": "display_data"
    }
   ],
   "source": [
    "import pandas as pd\n",
    "import numpy as np\n",
    "import plotly.figure_factory as ff\n",
    "import matplotlib.pyplot as plt\n",
    "from scipy.spatial import Delaunay\n",
    "\n",
    "# Leer el archivo .dta\n",
    "data = pd.read_stata(\"predictions.dta\")\n",
    "\n",
    "# Extraer coordenadas\n",
    "x = data['prop_women'].values\n",
    "y = data['log_num_pages'].values\n",
    "z = data['delta_hat'].values\n",
    "\n",
    "# Generar la triangulación de la superficie\n",
    "triangles = Delaunay(np.column_stack((x, y))).simplices\n",
    "\n",
    "# Convertir la escala de 'Spectral' de matplotlib a valores en formato válido para Plotly\n",
    "colormap = [f\"rgb({r*255:.0f},{g*255:.0f},{b*255:.0f})\" \n",
    "            for r, g, b, _ in plt.cm.Spectral(np.linspace(1, 0, 10))]  # Se invierte la escala\n",
    "\n",
    "# Crear el gráfico interactivo\n",
    "fig = ff.create_trisurf(\n",
    "    x=x,\n",
    "    y=y,\n",
    "    z=z,\n",
    "    simplices=triangles,\n",
    "    colormap=colormap,\n",
    "    show_colorbar=True\n",
    ")\n",
    "\n",
    "# Personalizar etiquetas y ejes con ticks específicos\n",
    "fig.update_layout(\n",
    "    title=\"Superficie 3D Interactiva\",\n",
    "    scene=dict(\n",
    "        xaxis=dict(\n",
    "            title=\"Proportion of Women\",\n",
    "            tickvals=np.arange(0, 1.25, step=0.25),  # Ticks en X\n",
    "            autorange=\"reversed\"\n",
    "        ),\n",
    "        yaxis=dict(\n",
    "            title=\"log(Number of Pages)\",\n",
    "            tickvals=np.arange(1, 4.5, step=0.5),  # Ticks en Y\n",
    "            autorange=\"reversed\"  # Invertir eje Y\n",
    "        ),\n",
    "        zaxis=dict(\n",
    "            title=\"Delta Hat\",\n",
    "            tickvals=np.arange(-0.1, 0.02, step=0.02)  # Ticks en Z\n",
    "        )\n",
    "    )\n",
    ")\n",
    "\n",
    "# Mostrar el gráfico interactivo\n",
    "fig.show()\n"
   ]
  },
  {
   "cell_type": "code",
   "execution_count": null,
   "metadata": {},
   "outputs": [],
   "source": []
  }
 ],
 "metadata": {
  "kernelspec": {
   "display_name": "Python 3 (ipykernel)",
   "language": "python",
   "name": "python3"
  },
  "language_info": {
   "codemirror_mode": {
    "name": "ipython",
    "version": 3
   },
   "file_extension": ".py",
   "mimetype": "text/x-python",
   "name": "python",
   "nbconvert_exporter": "python",
   "pygments_lexer": "ipython3",
   "version": "3.11.0"
  }
 },
 "nbformat": 4,
 "nbformat_minor": 4
}
